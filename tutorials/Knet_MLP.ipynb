{
 "cells": [
  {
   "cell_type": "markdown",
   "metadata": {},
   "source": [
    "### Import Knet & ONNX"
   ]
  },
  {
   "cell_type": "code",
   "execution_count": 37,
   "metadata": {},
   "outputs": [
    {
     "name": "stderr",
     "output_type": "stream",
     "text": [
      "\u001b[32m\u001b[1m  Resolving\u001b[22m\u001b[39m package versions...\n",
      "\u001b[32m\u001b[1m   Updating\u001b[22m\u001b[39m `~/kafamagore/KnetOnnx.jl/Project.toml`\n",
      "\u001b[90m [no changes]\u001b[39m\n",
      "\u001b[32m\u001b[1m   Updating\u001b[22m\u001b[39m `~/kafamagore/KnetOnnx.jl/Manifest.toml`\n",
      "\u001b[90m [no changes]\u001b[39m\n",
      "\u001b[32m\u001b[1m  Resolving\u001b[22m\u001b[39m package versions...\n",
      "\u001b[32m\u001b[1m  Installed\u001b[22m\u001b[39m IterTools ─ v1.3.0\n",
      "\u001b[32m\u001b[1m   Updating\u001b[22m\u001b[39m `~/kafamagore/KnetOnnx.jl/Project.toml`\n",
      " \u001b[90m [c8e1da08]\u001b[39m\u001b[92m + IterTools v1.3.0\u001b[39m\n",
      "\u001b[32m\u001b[1m   Updating\u001b[22m\u001b[39m `~/kafamagore/KnetOnnx.jl/Manifest.toml`\n",
      " \u001b[90m [c8e1da08]\u001b[39m\u001b[92m + IterTools v1.3.0\u001b[39m\n"
     ]
    }
   ],
   "source": [
    "using Pkg;\n",
    "Pkg.add(\"Knet\")\n",
    "Pkg.add(\"IterTools\")"
   ]
  },
  {
   "cell_type": "code",
   "execution_count": 38,
   "metadata": {},
   "outputs": [
    {
     "name": "stderr",
     "output_type": "stream",
     "text": [
      "┌ Info: Precompiling IterTools [c8e1da08-722c-5040-9ed9-7db0dc04731e]\n",
      "└ @ Base loading.jl:1260\n"
     ]
    }
   ],
   "source": [
    "using Knet\n",
    "using IterTools: ncycle, takenth"
   ]
  },
  {
   "cell_type": "code",
   "execution_count": 10,
   "metadata": {
    "collapsed": true
   },
   "outputs": [
    {
     "name": "stderr",
     "output_type": "stream",
     "text": [
      "┌ Info: Precompiling KnetOnnx [5598a57d-f0b8-44c7-a305-14fa4de76fa0]\n",
      "└ @ Base loading.jl:1260\n",
      "WARNING: Method definition iterate(DataFlow.ObjectArraySet{T} where T, Any...) in module DataFlow at /Users/syny/.julia/packages/Lazy/KYseE/src/macros.jl:297 overwritten at /Users/syny/.julia/packages/Lazy/KYseE/src/macros.jl:297.\n",
      "  ** incremental compilation may be fatally broken for this module **\n",
      "\n",
      "WARNING: Method definition iterate##kw(Any, typeof(Base.iterate), DataFlow.ObjectArraySet{T} where T, Any...) in module DataFlow at /Users/syny/.julia/packages/Lazy/KYseE/src/macros.jl:297 overwritten at /Users/syny/.julia/packages/Lazy/KYseE/src/macros.jl:297.\n",
      "  ** incremental compilation may be fatally broken for this module **\n",
      "\n",
      "┌ Warning: Deprecated syntax `(;)` at /Users/syny/.julia/packages/DataFlow/nNf8v/src/syntax/dump.jl:10.\n",
      "│ Use `begin end` instead.\n",
      "└ @ ~/.julia/packages/DataFlow/nNf8v/src/syntax/dump.jl:10\n",
      "┌ Warning: Deprecated syntax `(;)` at /Users/syny/.julia/packages/DataFlow/nNf8v/src/syntax/sugar.jl:96.\n",
      "│ Use `begin end` instead.\n",
      "└ @ ~/.julia/packages/DataFlow/nNf8v/src/syntax/sugar.jl:96\n",
      "┌ Warning: Deprecated syntax `(;)` at /Users/syny/.julia/packages/DataFlow/nNf8v/src/syntax/sugar.jl:107.\n",
      "│ Use `begin end` instead.\n",
      "└ @ ~/.julia/packages/DataFlow/nNf8v/src/syntax/sugar.jl:107\n",
      "┌ Warning: Deprecated syntax `(;)` at /Users/syny/.julia/packages/DataFlow/nNf8v/src/syntax/sugar.jl:255.\n",
      "│ Use `begin end` instead.\n",
      "└ @ ~/.julia/packages/DataFlow/nNf8v/src/syntax/sugar.jl:255\n",
      "WARNING: Method definition iterate##kw(Any, typeof(Base.iterate), DataFlow.ObjectArraySet{T} where T, Any...) in module DataFlow at /Users/syny/.julia/packages/Lazy/KYseE/src/macros.jl:297 overwritten at /Users/syny/.julia/packages/Lazy/KYseE/src/macros.jl:297.\n",
      "  ** incremental compilation may be fatally broken for this module **\n",
      "\n",
      "WARNING: Method definition iterate(DataFlow.ObjectArraySet{T} where T, Any...) in module DataFlow at /Users/syny/.julia/packages/Lazy/KYseE/src/macros.jl:297 overwritten at /Users/syny/.julia/packages/Lazy/KYseE/src/macros.jl:297.\n",
      "  ** incremental compilation may be fatally broken for this module **\n",
      "\n"
     ]
    }
   ],
   "source": [
    "KnetOnnx_PATH = \"/Users/syny/kafamagore/KnetOnnx.jl/src\"\n",
    "push!(LOAD_PATH, KnetOnnx_PATH)\n",
    "using KnetOnnx"
   ]
  },
  {
   "cell_type": "markdown",
   "metadata": {},
   "source": [
    "### Import MNIST Dataset"
   ]
  },
  {
   "cell_type": "code",
   "execution_count": 17,
   "metadata": {
    "scrolled": false
   },
   "outputs": [
    {
     "name": "stderr",
     "output_type": "stream",
     "text": [
      "┌ Warning: Pkg.installed() is deprecated\n",
      "└ @ Pkg /Users/julia/buildbot/worker/package_macos64/build/usr/share/julia/stdlib/v1.4/Pkg/src/Pkg.jl:531\n",
      "┌ Info: Loading MNIST...\n",
      "└ @ Main /Users/syny/.julia/packages/Knet/bTNMd/data/mnist.jl:33\n"
     ]
    }
   ],
   "source": [
    "include(Knet.dir(\"data\",\"mnist.jl\"))\n",
    "dtrn,dtst = mnistdata(xsize=(784,:));"
   ]
  },
  {
   "cell_type": "markdown",
   "metadata": {},
   "source": [
    "### Read ONNX Graph"
   ]
  },
  {
   "cell_type": "code",
   "execution_count": 82,
   "metadata": {},
   "outputs": [],
   "source": [
    "file_path = \"./mlp.onnx\"\n",
    "graph = ONNXtoGraph(file_path);"
   ]
  },
  {
   "cell_type": "code",
   "execution_count": 83,
   "metadata": {},
   "outputs": [
    {
     "name": "stdout",
     "output_type": "stream",
     "text": [
      "model inputs: [\"input.1\"]\n",
      "model outputs: [\"7\"]\n",
      "(op1) Gemm\n",
      "\tinput1: input.1\n",
      "\tinput2: fc1.weight\n",
      "\tinput3: fc1.bias\n",
      "\toutput1: 5\n",
      "(op2) Relu\n",
      "\tinput1: 5\n",
      "\toutput1: 6\n",
      "(op3) Gemm\n",
      "\tinput1: 6\n",
      "\tinput2: fc2.weight\n",
      "\tinput3: fc2.bias\n",
      "\toutput1: 7\n"
     ]
    }
   ],
   "source": [
    "PrintGraph(graph)"
   ]
  },
  {
   "cell_type": "markdown",
   "metadata": {},
   "source": [
    "### Re-construct model in Knet"
   ]
  },
  {
   "cell_type": "code",
   "execution_count": 75,
   "metadata": {},
   "outputs": [],
   "source": [
    "model = KnetModel(file_path);"
   ]
  },
  {
   "cell_type": "code",
   "execution_count": 77,
   "metadata": {},
   "outputs": [
    {
     "data": {
      "text/plain": [
       "10×100 Array{Float64,2}:\n",
       "  0.0494241  -0.0486209  -0.0406266   …   0.0420663   -0.0281929  -0.0272076\n",
       " -0.0325614   0.0365905   0.151828        0.00741287   0.0283605   0.0401607\n",
       " -0.0404023  -0.135543   -0.0618576      -0.182312     0.0016608   0.0220724\n",
       "  0.0863582   0.08625     0.0103846       0.0717666    0.0121111   0.0393399\n",
       " -0.120319   -0.156512   -0.0768258      -0.166433    -0.199655   -0.145425\n",
       "  0.0841243  -0.0170137  -0.00637636  …   0.0946109    0.115717    0.0252284\n",
       " -0.0702671   0.0153379   0.0127471      -0.167151    -0.133465   -0.0814034\n",
       "  0.0159794   0.229116    0.0955298       0.16953      0.105005    0.0797005\n",
       " -0.110644   -0.064558    0.0337786      -0.0179999   -0.0311736  -0.0758149\n",
       "  0.0970354   0.0595301  -0.0955818      -0.0161229    0.0820342  -0.0181471"
      ]
     },
     "execution_count": 77,
     "metadata": {},
     "output_type": "execute_result"
    }
   ],
   "source": [
    "x,y = first(dtrn)\n",
    "model(x)"
   ]
  },
  {
   "cell_type": "markdown",
   "metadata": {},
   "source": [
    "### Re-train the model in Knet"
   ]
  },
  {
   "cell_type": "code",
   "execution_count": 86,
   "metadata": {},
   "outputs": [
    {
     "name": "stdout",
     "output_type": "stream",
     "text": [
      "accuracy(model, dtst) = 0.088\n",
      "\n",
      "Stacktrace:\n",
      " [1] \u001b[1mgetindex\u001b[22m\u001b[1m(\u001b[22m::Array{String,1}, ::Int64\u001b[1m)\u001b[22m at \u001b[1m./array.jl:788\u001b[22m\n",
      " [2] \u001b[1m(::KnetModel)\u001b[22m\u001b[1m(\u001b[22m::Array{Float32,2}, ::Vararg{Any,N} where N\u001b[1m)\u001b[22m at \u001b[1m/Users/syny/kafamagore/KnetOnnx.jl/src/KnetModel.jl:121\u001b[22m\n",
      " [3] \u001b[1m(::Knet.var\"#693#694\"{Knet.Minimize{IterTools.NCycle{Knet.Data{Tuple{Array{Float32,2},Array{UInt8,1}}}}},Tuple{Array{Float32,2},Array{UInt8,1}}})\u001b[22m\u001b[1m(\u001b[22m\u001b[1m)\u001b[22m at \u001b[1m/Users/syny/.julia/packages/AutoGrad/6QsMu/src/core.jl:205\u001b[22m\n",
      " [4] \u001b[1mdifferentiate\u001b[22m\u001b[1m(\u001b[22m::Function; o::Base.Iterators.Pairs{Union{},Union{},Tuple{},NamedTuple{(),Tuple{}}}\u001b[1m)\u001b[22m at \u001b[1m/Users/syny/.julia/packages/AutoGrad/6QsMu/src/core.jl:144\u001b[22m\n",
      " [5] \u001b[1mdifferentiate\u001b[22m at \u001b[1m/Users/syny/.julia/packages/AutoGrad/6QsMu/src/core.jl:135\u001b[22m [inlined]\n",
      " [6] \u001b[1miterate\u001b[22m at \u001b[1m/Users/syny/.julia/packages/Knet/bTNMd/src/train.jl:23\u001b[22m [inlined]\n",
      " [7] \u001b[1miterate\u001b[22m at \u001b[1m/Users/syny/.julia/packages/Knet/bTNMd/src/progress.jl:69\u001b[22m [inlined]\n",
      " [8] \u001b[1mprogress!\u001b[22m\u001b[1m(\u001b[22m::Knet.Minimize{IterTools.NCycle{Knet.Data{Tuple{Array{Float32,2},Array{UInt8,1}}}}}; o::Base.Iterators.Pairs{Union{},Union{},Tuple{},NamedTuple{(),Tuple{}}}\u001b[1m)\u001b[22m at \u001b[1m/Users/syny/.julia/packages/Knet/bTNMd/src/progress.jl:58\u001b[22m\n",
      " [9] \u001b[1mprogress!\u001b[22m\u001b[1m(\u001b[22m::Knet.Minimize{IterTools.NCycle{Knet.Data{Tuple{Array{Float32,2},Array{UInt8,1}}}}}\u001b[1m)\u001b[22m at \u001b[1m/Users/syny/.julia/packages/Knet/bTNMd/src/progress.jl:58\u001b[22m\n",
      " [10] top-level scope at \u001b[1mIn[86]:3\u001b[22m\n",
      " [11] \u001b[1meval\u001b[22m at \u001b[1m./boot.jl:331\u001b[22m [inlined]\n",
      " [12] \u001b[1msoftscope_include_string\u001b[22m\u001b[1m(\u001b[22m::Module, ::String, ::String\u001b[1m)\u001b[22m at \u001b[1m/Users/syny/.julia/packages/SoftGlobalScope/cSbw5/src/SoftGlobalScope.jl:218\u001b[22m\n",
      " [13] \u001b[1mexecute_request\u001b[22m\u001b[1m(\u001b[22m::ZMQ.Socket, ::IJulia.Msg\u001b[1m)\u001b[22m at \u001b[1m/Users/syny/.julia/packages/IJulia/DrVMH/src/execute_request.jl:67\u001b[22m\n",
      " [14] \u001b[1m#invokelatest#1\u001b[22m at \u001b[1m./essentials.jl:712\u001b[22m [inlined]\n",
      " [15] \u001b[1minvokelatest\u001b[22m at \u001b[1m./essentials.jl:711\u001b[22m [inlined]\n",
      " [16] \u001b[1meventloop\u001b[22m\u001b[1m(\u001b[22m::ZMQ.Socket\u001b[1m)\u001b[22m at \u001b[1m/Users/syny/.julia/packages/IJulia/DrVMH/src/eventloop.jl:8\u001b[22m\n",
      " [17] \u001b[1m(::IJulia.var\"#15#18\")\u001b[22m\u001b[1m(\u001b[22m\u001b[1m)\u001b[22m at \u001b[1m./task.jl:358\u001b[22m\n"
     ]
    },
    {
     "ename": "BoundsError",
     "evalue": "BoundsError: attempt to access 1-element Array{String,1} at index [2]",
     "output_type": "error",
     "traceback": [
      "BoundsError: attempt to access 1-element Array{String,1} at index [2]",
      "",
      "Stacktrace:",
      " [1] differentiate(::Function; o::Base.Iterators.Pairs{Union{},Union{},Tuple{},NamedTuple{(),Tuple{}}}) at /Users/syny/.julia/packages/AutoGrad/6QsMu/src/core.jl:148",
      " [2] differentiate at /Users/syny/.julia/packages/AutoGrad/6QsMu/src/core.jl:135 [inlined]",
      " [3] iterate at /Users/syny/.julia/packages/Knet/bTNMd/src/train.jl:23 [inlined]",
      " [4] iterate at /Users/syny/.julia/packages/Knet/bTNMd/src/progress.jl:69 [inlined]",
      " [5] progress!(::Knet.Minimize{IterTools.NCycle{Knet.Data{Tuple{Array{Float32,2},Array{UInt8,1}}}}}; o::Base.Iterators.Pairs{Union{},Union{},Tuple{},NamedTuple{(),Tuple{}}}) at /Users/syny/.julia/packages/Knet/bTNMd/src/progress.jl:58",
      " [6] progress!(::Knet.Minimize{IterTools.NCycle{Knet.Data{Tuple{Array{Float32,2},Array{UInt8,1}}}}}) at /Users/syny/.julia/packages/Knet/bTNMd/src/progress.jl:58",
      " [7] top-level scope at In[86]:3"
     ]
    }
   ],
   "source": [
    "EPOCH = 2\n",
    "@show accuracy(model, dtst)\n",
    "progress!(sgd(model, ncycle(dtrn, EPOCH)))\n",
    "@show accuracy(model, dtst)"
   ]
  },
  {
   "cell_type": "code",
   "execution_count": 30,
   "metadata": {},
   "outputs": [
    {
     "ename": "UndefVarError",
     "evalue": "UndefVarError: predictMNIST not defined",
     "output_type": "error",
     "traceback": [
      "UndefVarError: predictMNIST not defined",
      "",
      "Stacktrace:",
      " [1] top-level scope at In[30]:1"
     ]
    }
   ],
   "source": [
    "predictMNIST(model, dtrn)"
   ]
  },
  {
   "cell_type": "code",
   "execution_count": null,
   "metadata": {},
   "outputs": [],
   "source": [
    "using Images, Plots\n",
    "function predictMNIST(model, data)\n",
    "    i = rand(1:100)\n",
    "    x = rand(data)[1][:,i]\n",
    "    out = argmax(model(x)); if out==10; out = 0; end\n",
    "    plot(heatmap(permutedims(reshape(x, 28, 28))), yflip = true, title = (\"Model Output: \" * string(out)))\n",
    "end"
   ]
  }
 ],
 "metadata": {
  "kernelspec": {
   "display_name": "Julia 1.4.2",
   "language": "julia",
   "name": "julia-1.4"
  },
  "language_info": {
   "file_extension": ".jl",
   "mimetype": "application/julia",
   "name": "julia",
   "version": "1.4.2"
  }
 },
 "nbformat": 4,
 "nbformat_minor": 2
}
