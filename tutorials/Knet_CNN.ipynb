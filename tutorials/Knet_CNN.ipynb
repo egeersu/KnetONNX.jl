{
 "cells": [
  {
   "cell_type": "markdown",
   "metadata": {},
   "source": [
    "### Import Knet & ONNX"
   ]
  },
  {
   "cell_type": "code",
   "execution_count": 1,
   "metadata": {},
   "outputs": [],
   "source": [
    "using Knet;"
   ]
  },
  {
   "cell_type": "code",
   "execution_count": 2,
   "metadata": {},
   "outputs": [],
   "source": [
    "KnetOnnx_PATH = \"/Users/syny/kafamagore/KnetOnnx.jl/src\"\n",
    "push!(LOAD_PATH, KnetOnnx_PATH)\n",
    "using KnetOnnx;"
   ]
  },
  {
   "cell_type": "code",
   "execution_count": 3,
   "metadata": {
    "scrolled": false
   },
   "outputs": [
    {
     "name": "stderr",
     "output_type": "stream",
     "text": [
      "┌ Warning: Pkg.installed() is deprecated\n",
      "└ @ Pkg /Users/julia/buildbot/worker/package_macos64/build/usr/share/julia/stdlib/v1.4/Pkg/src/Pkg.jl:531\n",
      "┌ Info: Loading MNIST...\n",
      "└ @ Main /Users/syny/.julia/packages/Knet/bTNMd/data/mnist.jl:33\n"
     ]
    }
   ],
   "source": [
    "include(Knet.dir(\"data\",\"mnist.jl\"))\n",
    "dtrn,dtst = mnistdata();"
   ]
  },
  {
   "cell_type": "markdown",
   "metadata": {},
   "source": [
    "### Read ONNX Graph"
   ]
  },
  {
   "cell_type": "code",
   "execution_count": 4,
   "metadata": {},
   "outputs": [],
   "source": [
    "file_path = \"cnn.onnx\"\n",
    "graph = ONNXtoGraph(file_path);"
   ]
  },
  {
   "cell_type": "code",
   "execution_count": 5,
   "metadata": {},
   "outputs": [
    {
     "name": "stdout",
     "output_type": "stream",
     "text": [
      "model inputs: [\"input.1\"]\n",
      "model outputs: [\"16\"]\n",
      "(op1) Conv\n",
      "\tinput1: input.1\n",
      "\tinput2: conv1.weight\n",
      "\tinput3: conv1.bias\n",
      "\toutput1: 9\n",
      "(op2) Relu\n",
      "\tinput1: 9\n",
      "\toutput1: 10\n",
      "(op3) Conv\n",
      "\tinput1: 10\n",
      "\tinput2: conv2.weight\n",
      "\tinput3: conv2.bias\n",
      "\toutput1: 11\n",
      "(op4) MaxPool\n",
      "\tinput1: 11\n",
      "\toutput1: 12\n",
      "(op5) Flatten\n",
      "\tinput1: 12\n",
      "\toutput1: 13\n",
      "(op6) Gemm\n",
      "\tinput1: 13\n",
      "\tinput2: fc1.weight\n",
      "\tinput3: fc1.bias\n",
      "\toutput1: 14\n",
      "(op7) Relu\n",
      "\tinput1: 14\n",
      "\toutput1: 15\n",
      "(op8) Gemm\n",
      "\tinput1: 15\n",
      "\tinput2: fc2.weight\n",
      "\tinput3: fc2.bias\n",
      "\toutput1: 16\n"
     ]
    }
   ],
   "source": [
    "PrintGraph(graph)"
   ]
  },
  {
   "cell_type": "markdown",
   "metadata": {},
   "source": [
    "### Re-construct model in Knet"
   ]
  },
  {
   "cell_type": "code",
   "execution_count": 6,
   "metadata": {},
   "outputs": [],
   "source": [
    "model = KnetModel(file_path);"
   ]
  },
  {
   "cell_type": "code",
   "execution_count": 7,
   "metadata": {},
   "outputs": [
    {
     "data": {
      "text/plain": [
       "Dict{Any,Any} with 9 entries:\n",
       "  \"16\"      => Nothing\n",
       "  \"12\"      => Nothing\n",
       "  \"10\"      => Nothing\n",
       "  \"15\"      => Nothing\n",
       "  \"input.1\" => Nothing\n",
       "  \"9\"       => Nothing\n",
       "  \"11\"      => Nothing\n",
       "  \"13\"      => Nothing\n",
       "  \"14\"      => Nothing"
      ]
     },
     "execution_count": 7,
     "metadata": {},
     "output_type": "execute_result"
    }
   ],
   "source": [
    "model.tensors"
   ]
  },
  {
   "cell_type": "code",
   "execution_count": 8,
   "metadata": {},
   "outputs": [
    {
     "data": {
      "text/plain": [
       "10×100 Array{Float64,2}:\n",
       "  0.122901     0.129133     0.12323     …   0.129186     0.11251\n",
       "  0.0393511    0.0247273    0.0446674       0.0515631    0.0369746\n",
       "  0.00084469   0.0200402    0.015049        0.0133032    0.0115262\n",
       "  0.0839118    0.0726088    0.0726914       0.0872949    0.0713523\n",
       " -0.0454412   -0.0211448   -0.00398575     -0.0472456   -0.0228458\n",
       " -0.0982851   -0.0789427   -0.0745983   …  -0.0706251   -0.0759159\n",
       "  0.0142066    0.00980528  -0.00219376      0.00719757  -0.00854764\n",
       " -0.00444491  -0.00343109  -0.0101027      -0.0205154   -0.0251139\n",
       " -0.0650283   -0.0685512   -0.0562406      -0.0774696   -0.0687056\n",
       "  0.0790243    0.0754361    0.0773273       0.0897365    0.0757764"
      ]
     },
     "execution_count": 8,
     "metadata": {},
     "output_type": "execute_result"
    }
   ],
   "source": [
    "x,y = first(dtrn)\n",
    "model(x)"
   ]
  },
  {
   "cell_type": "code",
   "execution_count": 9,
   "metadata": {},
   "outputs": [
    {
     "data": {
      "text/plain": [
       "Dict{Any,Any} with 9 entries:\n",
       "  \"16\"      => [0.122901 0.129133 … 0.129186 0.11251; 0.0393511 0.0247273 … 0.0…\n",
       "  \"12\"      => Float32[0.0 0.0 … 0.0 0.0; 0.0 0.0 … 0.0 0.116799; … ; 0.0 0.0 ……\n",
       "  \"10\"      => Float32[0.238287 0.238287 … 0.238287 0.238287; 0.238287 0.238287…\n",
       "  \"15\"      => [0.0822569 0.0 … 0.0906895 0.0999589; 0.0 0.0 … 0.0 0.0; … ; 0.0…\n",
       "  \"input.1\" => Float32[0.0 0.0 … 0.0 0.0; 0.0 0.0 … 0.0 0.0; … ; 0.0 0.0 … 0.0 …\n",
       "  \"9\"       => Float32[0.238287 0.238287 … 0.238287 0.238287; 0.238287 0.238287…\n",
       "  \"11\"      => Float32[0.0 0.0 … 0.0 0.0; 0.0 0.0 … 0.0 0.0; … ; 0.0 0.0 … 0.0 …\n",
       "  \"13\"      => Float32[0.0 0.0 … 0.0 0.0; 0.0 0.0 … 0.0 0.0; … ; 0.0 0.0 … 0.0 …\n",
       "  \"14\"      => [0.0822569 -0.00749586 … 0.0906895 0.0999589; -0.0728656 -0.0673…"
      ]
     },
     "execution_count": 9,
     "metadata": {},
     "output_type": "execute_result"
    }
   ],
   "source": [
    "model.tensors"
   ]
  },
  {
   "cell_type": "code",
   "execution_count": 10,
   "metadata": {},
   "outputs": [
    {
     "name": "stdout",
     "output_type": "stream",
     "text": [
      "accuracy(model, dtst) = 0.1136\n"
     ]
    },
    {
     "data": {
      "text/plain": [
       "0.1136"
      ]
     },
     "execution_count": 10,
     "metadata": {},
     "output_type": "execute_result"
    }
   ],
   "source": [
    "@show accuracy(model, dtst)"
   ]
  },
  {
   "cell_type": "markdown",
   "metadata": {},
   "source": [
    "### Re-train the model in Knet"
   ]
  },
  {
   "cell_type": "code",
   "execution_count": 11,
   "metadata": {},
   "outputs": [
    {
     "name": "stderr",
     "output_type": "stream",
     "text": [
      "┌ Warning: repeat(d::Data,n) is deprecated, use IterTools.ncycle instead.\n",
      "└ @ Knet /Users/syny/.julia/packages/Knet/bTNMd/src/data.jl:92\n"
     ]
    },
    {
     "name": "stdout",
     "output_type": "stream",
     "text": [
      "\n",
      "Stacktrace:\n",
      " [1] \u001b[1mgetindex\u001b[22m\u001b[1m(\u001b[22m::Array{String,1}, ::Int64\u001b[1m)\u001b[22m at \u001b[1m./array.jl:788\u001b[22m\n",
      " [2] \u001b[1m(::KnetModel)\u001b[22m\u001b[1m(\u001b[22m::Array{Float32,4}, ::Vararg{Any,N} where N\u001b[1m)\u001b[22m at \u001b[1m/Users/syny/kafamagore/KnetOnnx.jl/src/KnetModel.jl:121\u001b[22m\n",
      " [3] \u001b[1m(::Knet.var\"#693#694\"{Knet.Minimize{Knet.Repeat},Tuple{Array{Float32,4},Array{UInt8,1}}})\u001b[22m\u001b[1m(\u001b[22m\u001b[1m)\u001b[22m at \u001b[1m/Users/syny/.julia/packages/AutoGrad/6QsMu/src/core.jl:205\u001b[22m\n",
      " [4] \u001b[1mdifferentiate\u001b[22m\u001b[1m(\u001b[22m::Function; o::Base.Iterators.Pairs{Union{},Union{},Tuple{},NamedTuple{(),Tuple{}}}\u001b[1m)\u001b[22m at \u001b[1m/Users/syny/.julia/packages/AutoGrad/6QsMu/src/core.jl:144\u001b[22m\n",
      " [5] \u001b[1mdifferentiate\u001b[22m at \u001b[1m/Users/syny/.julia/packages/AutoGrad/6QsMu/src/core.jl:135\u001b[22m [inlined]\n",
      " [6] \u001b[1miterate\u001b[22m at \u001b[1m/Users/syny/.julia/packages/Knet/bTNMd/src/train.jl:23\u001b[22m [inlined]\n",
      " [7] \u001b[1miterate\u001b[22m at \u001b[1m/Users/syny/.julia/packages/Knet/bTNMd/src/progress.jl:69\u001b[22m [inlined]\n",
      " [8] \u001b[1mprogress!\u001b[22m\u001b[1m(\u001b[22m::Knet.Minimize{Knet.Repeat}; o::Base.Iterators.Pairs{Union{},Union{},Tuple{},NamedTuple{(),Tuple{}}}\u001b[1m)\u001b[22m at \u001b[1m/Users/syny/.julia/packages/Knet/bTNMd/src/progress.jl:58\u001b[22m\n",
      " [9] \u001b[1mprogress!\u001b[22m\u001b[1m(\u001b[22m::Knet.Minimize{Knet.Repeat}\u001b[1m)\u001b[22m at \u001b[1m/Users/syny/.julia/packages/Knet/bTNMd/src/progress.jl:58\u001b[22m\n",
      " [10] top-level scope at \u001b[1mIn[11]:2\u001b[22m\n",
      " [11] \u001b[1meval\u001b[22m at \u001b[1m./boot.jl:331\u001b[22m [inlined]\n",
      " [12] \u001b[1msoftscope_include_string\u001b[22m\u001b[1m(\u001b[22m::Module, ::String, ::String\u001b[1m)\u001b[22m at \u001b[1m/Users/syny/.julia/packages/SoftGlobalScope/cSbw5/src/SoftGlobalScope.jl:218\u001b[22m\n",
      " [13] \u001b[1mexecute_request\u001b[22m\u001b[1m(\u001b[22m::ZMQ.Socket, ::IJulia.Msg\u001b[1m)\u001b[22m at \u001b[1m/Users/syny/.julia/packages/IJulia/DrVMH/src/execute_request.jl:67\u001b[22m\n",
      " [14] \u001b[1m#invokelatest#1\u001b[22m at \u001b[1m./essentials.jl:712\u001b[22m [inlined]\n",
      " [15] \u001b[1minvokelatest\u001b[22m at \u001b[1m./essentials.jl:711\u001b[22m [inlined]\n",
      " [16] \u001b[1meventloop\u001b[22m\u001b[1m(\u001b[22m::ZMQ.Socket\u001b[1m)\u001b[22m at \u001b[1m/Users/syny/.julia/packages/IJulia/DrVMH/src/eventloop.jl:8\u001b[22m\n",
      " [17] \u001b[1m(::IJulia.var\"#15#18\")\u001b[22m\u001b[1m(\u001b[22m\u001b[1m)\u001b[22m at \u001b[1m./task.jl:358\u001b[22m\n"
     ]
    },
    {
     "ename": "BoundsError",
     "evalue": "BoundsError: attempt to access 1-element Array{String,1} at index [2]",
     "output_type": "error",
     "traceback": [
      "BoundsError: attempt to access 1-element Array{String,1} at index [2]",
      "",
      "Stacktrace:",
      " [1] differentiate(::Function; o::Base.Iterators.Pairs{Union{},Union{},Tuple{},NamedTuple{(),Tuple{}}}) at /Users/syny/.julia/packages/AutoGrad/6QsMu/src/core.jl:148",
      " [2] differentiate at /Users/syny/.julia/packages/AutoGrad/6QsMu/src/core.jl:135 [inlined]",
      " [3] iterate at /Users/syny/.julia/packages/Knet/bTNMd/src/train.jl:23 [inlined]",
      " [4] iterate at /Users/syny/.julia/packages/Knet/bTNMd/src/progress.jl:69 [inlined]",
      " [5] progress!(::Knet.Minimize{Knet.Repeat}; o::Base.Iterators.Pairs{Union{},Union{},Tuple{},NamedTuple{(),Tuple{}}}) at /Users/syny/.julia/packages/Knet/bTNMd/src/progress.jl:58",
      " [6] progress!(::Knet.Minimize{Knet.Repeat}) at /Users/syny/.julia/packages/Knet/bTNMd/src/progress.jl:58",
      " [7] top-level scope at In[11]:2"
     ]
    }
   ],
   "source": [
    "EPOCH = 2\n",
    "progress!(sgd(model, repeat(dtrn,EPOCH)))\n",
    "@show accuracy(model, dtst)"
   ]
  },
  {
   "cell_type": "code",
   "execution_count": null,
   "metadata": {},
   "outputs": [],
   "source": [
    "using Images, Plots\n",
    "function predictMNIST(model, data)\n",
    "    i = rand(1:100)\n",
    "    x = reshape(rand(dtrn)[1][:,:,:,i], 28, 28, 1, 1)\n",
    "    pred = argmax(model(x), dims=1)[1][1]; if pred==10; pred=0; end\n",
    "    image = x[:,:,1,1]    \n",
    "    plot(heatmap(permutedims(image), yflip = true, title = (\"Model Output: \" * string(pred))))\n",
    "end\n",
    "predictMNIST(model, dtst)"
   ]
  }
 ],
 "metadata": {
  "kernelspec": {
   "display_name": "Julia 1.4.2",
   "language": "julia",
   "name": "julia-1.4"
  },
  "language_info": {
   "file_extension": ".jl",
   "mimetype": "application/julia",
   "name": "julia",
   "version": "1.4.2"
  }
 },
 "nbformat": 4,
 "nbformat_minor": 2
}
