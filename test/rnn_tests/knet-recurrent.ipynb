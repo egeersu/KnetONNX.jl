{
 "cells": [
  {
   "cell_type": "code",
   "execution_count": 1,
   "metadata": {},
   "outputs": [
    {
     "name": "stderr",
     "output_type": "stream",
     "text": [
      "┌ Info: Recompiling stale cache file /Users/egeersu/.julia/compiled/v1.2/KnetOnnx/gz8hJ.ji for KnetOnnx [5598a57d-f0b8-44c7-a305-14fa4de76fa0]\n",
      "└ @ Base loading.jl:1240\n",
      "WARNING: Method definition #iterate(Any, typeof(Base.iterate), DataFlow.ObjectArraySet{T} where T, Any...) in module DataFlow overwritten.\n",
      "  ** incremental compilation may be fatally broken for this module **\n",
      "\n",
      "WARNING: Method definition iterate(DataFlow.ObjectArraySet{T} where T, Any...) in module DataFlow at /Users/egeersu/.julia/packages/Lazy/KYseE/src/macros.jl:297 overwritten at /Users/egeersu/.julia/packages/Lazy/KYseE/src/macros.jl:297.\n",
      "  ** incremental compilation may be fatally broken for this module **\n",
      "\n",
      "WARNING: Method definition #iterate(Any, typeof(Base.iterate), DataFlow.ObjectArraySet{T} where T, Any...) in module DataFlow overwritten.\n",
      "  ** incremental compilation may be fatally broken for this module **\n",
      "\n",
      "WARNING: Method definition #iterate(Any, typeof(Base.iterate), DataFlow.ObjectArraySet{T} where T, Any...) in module DataFlow overwritten.\n",
      "  ** incremental compilation may be fatally broken for this module **\n",
      "\n",
      "WARNING: Method definition iterate(DataFlow.ObjectArraySet{T} where T, Any...) in module DataFlow at /Users/egeersu/.julia/packages/Lazy/KYseE/src/macros.jl:297 overwritten at /Users/egeersu/.julia/packages/Lazy/KYseE/src/macros.jl:297.\n",
      "  ** incremental compilation may be fatally broken for this module **\n",
      "\n",
      "WARNING: Method definition iterate(DataFlow.ObjectArraySet{T} where T, Any...) in module DataFlow at /Users/egeersu/.julia/packages/Lazy/KYseE/src/macros.jl:297 overwritten at /Users/egeersu/.julia/packages/Lazy/KYseE/src/macros.jl:297.\n",
      "  ** incremental compilation may be fatally broken for this module **\n",
      "\n"
     ]
    }
   ],
   "source": [
    "using KnetOnnx"
   ]
  },
  {
   "cell_type": "code",
   "execution_count": 2,
   "metadata": {
    "scrolled": true
   },
   "outputs": [
    {
     "name": "stdout",
     "output_type": "stream",
     "text": [
      "model inputs: [\"input\"]\n",
      "model outputs: [\"22\", \"21\"]\n",
      "(op1) Constant\n",
      "\toutput1: 5\n",
      "(op2) Shape\n",
      "\tinput1: input\n",
      "\toutput1: 6\n",
      "(op3) Gather\n",
      "\tinput1: 6\n",
      "\tinput2: 5\n",
      "\toutput1: 7\n",
      "(op4) Constant\n",
      "\toutput1: 8\n",
      "(op5) Constant\n",
      "\toutput1: 9\n",
      "(op6) Unsqueeze\n",
      "\tinput1: 8\n",
      "\toutput1: 10\n",
      "(op7) Unsqueeze\n",
      "\tinput1: 7\n",
      "\toutput1: 11\n",
      "(op8) Unsqueeze\n",
      "\tinput1: 9\n",
      "\toutput1: 12\n",
      "(op9) Concat\n",
      "\tinput1: 10\n",
      "\tinput2: 11\n",
      "\tinput3: 12\n",
      "\toutput1: 13\n",
      "(op10) ConstantOfShape\n",
      "\tinput1: 13\n",
      "\toutput1: 14\n",
      "(op11) Concat\n",
      "\tinput1: rnn.bias_ih_l0\n",
      "\tinput2: rnn.bias_hh_l0\n",
      "\toutput1: 16\n",
      "(op12) Unsqueeze\n",
      "\tinput1: rnn.weight_ih_l0\n",
      "\toutput1: 17\n",
      "(op13) Unsqueeze\n",
      "\tinput1: rnn.weight_hh_l0\n",
      "\toutput1: 18\n",
      "(op14) Unsqueeze\n",
      "\tinput1: 16\n",
      "\toutput1: 19\n",
      "(op15) RNN\n",
      "\tinput1: input\n",
      "\tinput2: 17\n",
      "\tinput3: 18\n",
      "\tinput4: 19\n",
      "\tinput5: \n",
      "\tinput6: 14\n",
      "\toutput1: 20\n",
      "\toutput2: 21\n",
      "(op16) Squeeze\n",
      "\tinput1: 20\n",
      "\toutput1: 22\n"
     ]
    }
   ],
   "source": [
    "file_path = \"/Users/egeersu/Desktop/KnetOnnx.jl/test/rnn_tests/recurrent.onnx\"\n",
    "graph = ONNXtoGraph(file_path);\n",
    "PrintGraph(graph)"
   ]
  },
  {
   "cell_type": "code",
   "execution_count": 4,
   "metadata": {},
   "outputs": [],
   "source": [
    "model = KnetModel(graph);"
   ]
  },
  {
   "cell_type": "code",
   "execution_count": 7,
   "metadata": {},
   "outputs": [
    {
     "data": {
      "text/plain": [
       "Dict{Any,Any} with 23 entries:\n",
       "  \"12\"               => Float32[2.8026e-44 0.0]\n",
       "  \"20\"               => Nothing\n",
       "  \"6\"                => [10, 20]\n",
       "  \"22\"               => Nothing\n",
       "  \"11\"               => Any[[10, 20] [10, 20]]\n",
       "  \"13\"               => Any[1.4013e-45 0.0; [10, 20] [10, 20]; 2.8026e-44 0.0]\n",
       "  \"5\"                => Float32[1.4013e-45, 0.0]\n",
       "  \"rnn.weight_hh_l0\" => Float32[-0.131524 0.0536796 … -0.181554 -0.101871; -0.1…\n",
       "  \"16\"               => Nothing\n",
       "  \"14\"               => Nothing\n",
       "  \"21\"               => Nothing\n",
       "  \"7\"                => Any[[10, 20], [10, 20]]\n",
       "  \"input\"            => [-0.140148 -0.882163 … 1.31499 0.417903; 1.37257 -0.016…\n",
       "  \"8\"                => Float32[1.4013e-45, 0.0]\n",
       "  \"17\"               => Nothing\n",
       "  \"10\"               => Float32[1.4013e-45 0.0]\n",
       "  \"19\"               => Nothing\n",
       "  \"rnn.bias_ih_l0\"   => Float32[0.0885129, -0.0931143, -0.013804, -0.149315, 0.…\n",
       "  \"rnn.weight_ih_l0\" => Float32[-0.104773 0.0102346 … 0.045139 0.0206408; 0.133…\n",
       "  \"\"                 => Nothing\n",
       "  \"9\"                => Float32[2.8026e-44, 0.0]\n",
       "  \"18\"               => Nothing\n",
       "  \"rnn.bias_hh_l0\"   => Float32[-0.145904, -0.0505322, 0.128644, -0.0572783, 0.…"
      ]
     },
     "execution_count": 7,
     "metadata": {},
     "output_type": "execute_result"
    }
   ],
   "source": [
    "model.tensors"
   ]
  },
  {
   "cell_type": "code",
   "execution_count": 6,
   "metadata": {},
   "outputs": [
    {
     "ename": "MethodError",
     "evalue": "MethodError: no method matching fill(::Float32, ::Float32, ::Array{Int64,1}, ::Float32, ::Float32, ::Array{Int64,1}, ::Float32)\nClosest candidates are:\n  fill(::Any, !Matched::Union{Integer, AbstractUnitRange}...) at array.jl:393\n  fill(::Any, !Matched::Tuple{}) at array.jl:396\n  fill(::Any, !Matched::Tuple{Vararg{Integer,N}}) where N at array.jl:395\n  ...",
     "output_type": "error",
     "traceback": [
      "MethodError: no method matching fill(::Float32, ::Float32, ::Array{Int64,1}, ::Float32, ::Float32, ::Array{Int64,1}, ::Float32)\nClosest candidates are:\n  fill(::Any, !Matched::Union{Integer, AbstractUnitRange}...) at array.jl:393\n  fill(::Any, !Matched::Tuple{}) at array.jl:396\n  fill(::Any, !Matched::Tuple{Vararg{Integer,N}}) where N at array.jl:395\n  ...",
      "",
      "Stacktrace:",
      " [1] (::KnetOnnx.KnetLayers.ConstantOfShape)(::Array{Any,2}) at /Users/egeersu/Desktop/KnetOnnx.jl/src/KnetLayers/src/onnxlayers.jl:110",
      " [2] forward(::KnetModel, ::KnetOnnx.ModelLayer) at /Users/egeersu/Desktop/KnetOnnx.jl/src/KnetModel.jl:101",
      " [3] (::KnetModel)(::Array{Float64,2}) at /Users/egeersu/Desktop/KnetOnnx.jl/src/KnetModel.jl:129",
      " [4] top-level scope at In[6]:2"
     ]
    }
   ],
   "source": [
    "x1 = randn(10,20)\n",
    "model(x1)"
   ]
  }
 ],
 "metadata": {
  "kernelspec": {
   "display_name": "Julia 1.2.0",
   "language": "julia",
   "name": "julia-1.2"
  },
  "language_info": {
   "file_extension": ".jl",
   "mimetype": "application/julia",
   "name": "julia",
   "version": "1.2.0"
  }
 },
 "nbformat": 4,
 "nbformat_minor": 2
}
