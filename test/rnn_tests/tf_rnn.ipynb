{
 "cells": [
  {
   "cell_type": "code",
   "execution_count": 1,
   "metadata": {},
   "outputs": [],
   "source": [
    "import numpy as np\n",
    "import tensorflow as tf\n",
    "from tensorflow import keras\n",
    "from tensorflow.keras import layers"
   ]
  },
  {
   "cell_type": "code",
   "execution_count": 2,
   "metadata": {},
   "outputs": [],
   "source": [
    "model = keras.Sequential()\n",
    "model.add(layers.LSTM(4))"
   ]
  },
  {
   "cell_type": "code",
   "execution_count": 3,
   "metadata": {},
   "outputs": [],
   "source": [
    "x1 = tf.random.normal([32, 10, 8])"
   ]
  },
  {
   "cell_type": "code",
   "execution_count": 4,
   "metadata": {},
   "outputs": [
    {
     "data": {
      "text/plain": [
       "<tf.Tensor: shape=(32, 4), dtype=float32, numpy=\n",
       "array([[-0.5082687 ,  0.14863205,  0.13334009, -0.07380495],\n",
       "       [ 0.04153411, -0.11093218,  0.04694441,  0.01120318],\n",
       "       [ 0.15300126, -0.00368094,  0.23874271, -0.01983626],\n",
       "       [ 0.24312168,  0.4073843 , -0.3068534 ,  0.13457105],\n",
       "       [-0.05614557,  0.05151724, -0.46868587,  0.22900128],\n",
       "       [-0.06345244,  0.08298647,  0.01139368,  0.05514397],\n",
       "       [-0.05944962, -0.08780599,  0.04119999, -0.04840362],\n",
       "       [-0.10486541,  0.24471812,  0.18736935,  0.10424699],\n",
       "       [ 0.22808029, -0.0969453 , -0.01903597, -0.07827155],\n",
       "       [ 0.07026711, -0.10950614, -0.10620211,  0.1420676 ],\n",
       "       [ 0.11632167,  0.4063542 , -0.42386016,  0.6513082 ],\n",
       "       [-0.15545595, -0.02431781, -0.15965518, -0.29433796],\n",
       "       [-0.14371948,  0.0927735 , -0.35099268,  0.648471  ],\n",
       "       [-0.20841533,  0.04587263,  0.10782293, -0.36481667],\n",
       "       [-0.00369488,  0.0380564 , -0.25908276,  0.56286603],\n",
       "       [ 0.23228557,  0.56320447, -0.1390432 ,  0.765404  ],\n",
       "       [ 0.06968196,  0.2592221 , -0.21898536,  0.35258552],\n",
       "       [ 0.08670091,  0.10167512,  0.17130157,  0.10051346],\n",
       "       [ 0.21296737,  0.05060709, -0.02998232, -0.1997724 ],\n",
       "       [-0.09571452,  0.36491555,  0.07629197,  0.59842545],\n",
       "       [ 0.25787288,  0.12374205, -0.03980347,  0.07536872],\n",
       "       [-0.18868995,  0.05693434,  0.00307526, -0.26326802],\n",
       "       [ 0.17946185,  0.43209228, -0.10675003,  0.61448514],\n",
       "       [-0.21701087,  0.26896003,  0.05315544,  0.7441579 ],\n",
       "       [ 0.37516648,  0.235681  , -0.01326792, -0.17715195],\n",
       "       [-0.01821765,  0.13831882, -0.14979127, -0.12280742],\n",
       "       [-0.23843925, -0.03187427, -0.13427389, -0.13140678],\n",
       "       [-0.25349975,  0.28568077,  0.00671959,  0.26474056],\n",
       "       [ 0.31250077,  0.1259523 , -0.0359445 ,  0.27464098],\n",
       "       [ 0.02986686, -0.03267608, -0.30200884,  0.11690351],\n",
       "       [-0.2447413 ,  0.01610186,  0.01614193,  0.22809877],\n",
       "       [ 0.03327798, -0.04472842,  0.11238423, -0.04156548]],\n",
       "      dtype=float32)>"
      ]
     },
     "execution_count": 4,
     "metadata": {},
     "output_type": "execute_result"
    }
   ],
   "source": [
    "model(x1)"
   ]
  },
  {
   "cell_type": "code",
   "execution_count": 5,
   "metadata": {},
   "outputs": [
    {
     "name": "stdout",
     "output_type": "stream",
     "text": [
      "Model: \"sequential\"\n",
      "_________________________________________________________________\n",
      "Layer (type)                 Output Shape              Param #   \n",
      "=================================================================\n",
      "lstm (LSTM)                  multiple                  208       \n",
      "=================================================================\n",
      "Total params: 208\n",
      "Trainable params: 208\n",
      "Non-trainable params: 0\n",
      "_________________________________________________________________\n"
     ]
    }
   ],
   "source": [
    "model.summary()"
   ]
  },
  {
   "cell_type": "code",
   "execution_count": 48,
   "metadata": {},
   "outputs": [
    {
     "name": "stdout",
     "output_type": "stream",
     "text": [
      "INFO:tensorflow:Assets written to: ./weights/assets\n"
     ]
    }
   ],
   "source": [
    "filepath = \"./weights\"\n",
    "\n",
    "\n",
    "tf.keras.models.save_model(\n",
    "    model, filepath, overwrite=True, include_optimizer=True, save_format=None,\n",
    "    signatures=None, options=None\n",
    ")"
   ]
  }
 ],
 "metadata": {
  "kernelspec": {
   "display_name": "Python 3",
   "language": "python",
   "name": "python3"
  },
  "language_info": {
   "codemirror_mode": {
    "name": "ipython",
    "version": 3
   },
   "file_extension": ".py",
   "mimetype": "text/x-python",
   "name": "python",
   "nbconvert_exporter": "python",
   "pygments_lexer": "ipython3",
   "version": "3.7.6"
  }
 },
 "nbformat": 4,
 "nbformat_minor": 2
}
