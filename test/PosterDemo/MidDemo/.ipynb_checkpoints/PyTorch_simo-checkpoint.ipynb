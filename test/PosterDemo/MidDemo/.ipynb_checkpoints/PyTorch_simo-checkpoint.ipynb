{
 "cells": [
  {
   "cell_type": "code",
   "execution_count": 4,
   "metadata": {},
   "outputs": [],
   "source": [
    "from torch.autograd import Variable\n",
    "import torch.onnx\n",
    "import torch.nn as nn\n",
    "import numpy"
   ]
  },
  {
   "cell_type": "code",
   "execution_count": 44,
   "metadata": {},
   "outputs": [],
   "source": [
    "class simo(nn.Module):\n",
    "    def __init__(self, x_in, x_out1, x_out2):\n",
    "        super(simo, self).__init__()\n",
    "        self.linear1 = nn.Linear(x_in, x_out1)\n",
    "        self.linear2 = nn.Linear(x_in, x_out2)\n",
    "            \n",
    "    def forward(self, x):\n",
    "        out1 = self.linear1(x)\n",
    "        out2 = self.linear2(x)\n",
    "        return out1, out2"
   ]
  },
  {
   "cell_type": "code",
   "execution_count": 51,
   "metadata": {},
   "outputs": [],
   "source": [
    "x_in = 100\n",
    "x_out1 = 5\n",
    "x_out2 = 4"
   ]
  },
  {
   "cell_type": "code",
   "execution_count": 52,
   "metadata": {},
   "outputs": [],
   "source": [
    "model = simo(x_in, x_out1, x_out2)"
   ]
  },
  {
   "cell_type": "code",
   "execution_count": 53,
   "metadata": {},
   "outputs": [],
   "source": [
    "batchsize = 5\n",
    "x = torch.ones(batchsize, x_in)"
   ]
  },
  {
   "cell_type": "code",
   "execution_count": 54,
   "metadata": {},
   "outputs": [],
   "source": [
    "out1, out2 = model(x)"
   ]
  },
  {
   "cell_type": "code",
   "execution_count": 55,
   "metadata": {},
   "outputs": [
    {
     "data": {
      "text/plain": [
       "tensor([[ 0.2916,  0.2497,  0.2385, -0.6356, -0.3295],\n",
       "        [ 0.2916,  0.2497,  0.2385, -0.6356, -0.3295],\n",
       "        [ 0.2916,  0.2497,  0.2385, -0.6356, -0.3295],\n",
       "        [ 0.2916,  0.2497,  0.2385, -0.6356, -0.3295],\n",
       "        [ 0.2916,  0.2497,  0.2385, -0.6356, -0.3295]],\n",
       "       grad_fn=<AddmmBackward>)"
      ]
     },
     "execution_count": 55,
     "metadata": {},
     "output_type": "execute_result"
    }
   ],
   "source": [
    "out1"
   ]
  },
  {
   "cell_type": "code",
   "execution_count": 56,
   "metadata": {},
   "outputs": [
    {
     "data": {
      "text/plain": [
       "tensor([[ 0.3948, -0.2831, -0.4283, -0.7816],\n",
       "        [ 0.3948, -0.2831, -0.4283, -0.7816],\n",
       "        [ 0.3948, -0.2831, -0.4283, -0.7816],\n",
       "        [ 0.3948, -0.2831, -0.4283, -0.7816],\n",
       "        [ 0.3948, -0.2831, -0.4283, -0.7816]], grad_fn=<AddmmBackward>)"
      ]
     },
     "execution_count": 56,
     "metadata": {},
     "output_type": "execute_result"
    }
   ],
   "source": [
    "out2"
   ]
  },
  {
   "cell_type": "code",
   "execution_count": 57,
   "metadata": {},
   "outputs": [],
   "source": [
    "torch.onnx.export(model, x, \"simo.onnx\")"
   ]
  }
 ],
 "metadata": {
  "kernelspec": {
   "display_name": "Python 3",
   "language": "python",
   "name": "python3"
  },
  "language_info": {
   "codemirror_mode": {
    "name": "ipython",
    "version": 3
   },
   "file_extension": ".py",
   "mimetype": "text/x-python",
   "name": "python",
   "nbconvert_exporter": "python",
   "pygments_lexer": "ipython3",
   "version": "3.7.4"
  }
 },
 "nbformat": 4,
 "nbformat_minor": 2
}
