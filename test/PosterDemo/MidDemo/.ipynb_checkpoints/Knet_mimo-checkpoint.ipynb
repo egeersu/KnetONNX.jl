{
 "cells": [
  {
   "cell_type": "code",
   "execution_count": 1,
   "metadata": {},
   "outputs": [
    {
     "name": "stderr",
     "output_type": "stream",
     "text": [
      "┌ Info: Recompiling stale cache file /Users/egeersu/.julia/compiled/v1.2/KnetONNX.ji for KnetONNX [top-level]\n",
      "└ @ Base loading.jl:1240\n"
     ]
    },
    {
     "name": "stdout",
     "output_type": "stream",
     "text": [
      "  Updating registry at `~/.julia/registries/General`\n",
      "  Updating git-repo `https://github.com/JuliaRegistries/General.git`\n",
      "\u001b[?25l\u001b[2K\u001b[?25h Resolving package versions...\n",
      "  Updating `~/.julia/environments/v1.2/Project.toml`\n",
      " [no changes]\n",
      "  Updating `~/.julia/environments/v1.2/Manifest.toml`\n",
      " [no changes]\n",
      " Resolving package versions...\n",
      "  Updating `~/.julia/environments/v1.2/Project.toml`\n",
      " [no changes]\n",
      "  Updating `~/.julia/environments/v1.2/Manifest.toml`\n",
      " [no changes]\n",
      " Resolving package versions...\n",
      "  Updating `~/.julia/environments/v1.2/Project.toml`\n",
      " [no changes]\n",
      "  Updating `~/.julia/environments/v1.2/Manifest.toml`\n",
      " [no changes]\n",
      " Resolving package versions...\n",
      "  Updating `~/.julia/environments/v1.2/Project.toml`\n",
      " [no changes]\n",
      "  Updating `~/.julia/environments/v1.2/Manifest.toml`\n",
      " [no changes]\n"
     ]
    },
    {
     "name": "stderr",
     "output_type": "stream",
     "text": [
      "WARNING: Method definition iterate(DataFlow.ObjectArraySet{T} where T, Any...) in module DataFlow at /Users/egeersu/.julia/packages/Lazy/mAoZN/src/macros.jl:285 overwritten at /Users/egeersu/.julia/packages/Lazy/mAoZN/src/macros.jl:285.\n",
      "  ** incremental compilation may be fatally broken for this module **\n",
      "\n",
      "WARNING: Method definition iterate(DataFlow.ObjectArraySet{T} where T, Any...) in module DataFlow at /Users/egeersu/.julia/packages/Lazy/mAoZN/src/macros.jl:285 overwritten at /Users/egeersu/.julia/packages/Lazy/mAoZN/src/macros.jl:285.\n",
      "  ** incremental compilation may be fatally broken for this module **\n",
      "\n",
      "WARNING: Method definition iterate(DataFlow.ObjectArraySet{T} where T, Any...) in module DataFlow at /Users/egeersu/.julia/packages/Lazy/mAoZN/src/macros.jl:285 overwritten at /Users/egeersu/.julia/packages/Lazy/mAoZN/src/macros.jl:285.\n",
      "  ** incremental compilation may be fatally broken for this module **\n",
      "\n"
     ]
    },
    {
     "name": "stdout",
     "output_type": "stream",
     "text": [
      " Resolving package versions...\n",
      "  Updating `~/.julia/environments/v1.2/Project.toml`\n",
      " [no changes]\n",
      "  Updating `~/.julia/environments/v1.2/Manifest.toml`\n",
      " [no changes]\n",
      " Resolving package versions...\n",
      "  Updating `~/.julia/environments/v1.2/Project.toml`\n",
      " [no changes]\n",
      "  Updating `~/.julia/environments/v1.2/Manifest.toml`\n",
      " [no changes]\n",
      " Resolving package versions...\n",
      "  Updating `~/.julia/environments/v1.2/Project.toml`\n",
      " [no changes]\n",
      "  Updating `~/.julia/environments/v1.2/Manifest.toml`\n",
      " [no changes]\n"
     ]
    }
   ],
   "source": [
    "push!(LOAD_PATH, \"/Users/egeersu/Desktop/KnetONNX\")\n",
    "using Knet; using KnetONNX;"
   ]
  },
  {
   "cell_type": "code",
   "execution_count": 2,
   "metadata": {},
   "outputs": [
    {
     "data": {
      "text/plain": [
       "\"mimo.onnx\""
      ]
     },
     "execution_count": 2,
     "metadata": {},
     "output_type": "execute_result"
    }
   ],
   "source": [
    "file_path = \"mimo.onnx\""
   ]
  },
  {
   "cell_type": "code",
   "execution_count": 3,
   "metadata": {},
   "outputs": [
    {
     "name": "stdout",
     "output_type": "stream",
     "text": [
      "model inputs: [\"input.1\", \"input\"]\n",
      "model outputs: [\"6\", \"7\"]\n",
      "(op1) Gemm\n",
      "\tinput1: input.1\n",
      "\tinput2: linear_x.weight\n",
      "\tinput3: linear_x.bias\n",
      "\toutput1: 6\n",
      "(op2) Gemm\n",
      "\tinput1: input\n",
      "\tinput2: linear_y.weight\n",
      "\tinput3: linear_y.bias\n",
      "\toutput1: 7\n"
     ]
    }
   ],
   "source": [
    "PrintGraph(ONNXtoGraph(file_path))"
   ]
  },
  {
   "cell_type": "code",
   "execution_count": 4,
   "metadata": {},
   "outputs": [],
   "source": [
    "model = KnetModel(file_path);"
   ]
  },
  {
   "cell_type": "code",
   "execution_count": null,
   "metadata": {},
   "outputs": [],
   "source": [
    "model.tensors"
   ]
  },
  {
   "cell_type": "code",
   "execution_count": 5,
   "metadata": {},
   "outputs": [],
   "source": [
    "x_in = 100\n",
    "y_in = 200\n",
    "batch_size = 5;"
   ]
  },
  {
   "cell_type": "code",
   "execution_count": 6,
   "metadata": {},
   "outputs": [],
   "source": [
    "x = ones(x_in, batch_size)\n",
    "y = ones(y_in, batch_size);"
   ]
  },
  {
   "cell_type": "code",
   "execution_count": 7,
   "metadata": {},
   "outputs": [],
   "source": [
    "out1, out2 = model(x,y);"
   ]
  },
  {
   "cell_type": "code",
   "execution_count": 8,
   "metadata": {},
   "outputs": [
    {
     "data": {
      "text/plain": [
       "5×3 LinearAlgebra.Transpose{Float64,Array{Float64,2}}:\n",
       " 0.2267  0.68478  -0.300995\n",
       " 0.2267  0.68478  -0.300995\n",
       " 0.2267  0.68478  -0.300995\n",
       " 0.2267  0.68478  -0.300995\n",
       " 0.2267  0.68478  -0.300995"
      ]
     },
     "execution_count": 8,
     "metadata": {},
     "output_type": "execute_result"
    }
   ],
   "source": [
    "transpose(out1)"
   ]
  },
  {
   "cell_type": "code",
   "execution_count": 9,
   "metadata": {},
   "outputs": [
    {
     "data": {
      "text/plain": [
       "5×3 LinearAlgebra.Transpose{Float64,Array{Float64,2}}:\n",
       " -0.817395  -0.259233  1.34881\n",
       " -0.817395  -0.259233  1.34881\n",
       " -0.817395  -0.259233  1.34881\n",
       " -0.817395  -0.259233  1.34881\n",
       " -0.817395  -0.259233  1.34881"
      ]
     },
     "execution_count": 9,
     "metadata": {},
     "output_type": "execute_result"
    }
   ],
   "source": [
    "transpose(out2)"
   ]
  },
  {
   "cell_type": "code",
   "execution_count": 10,
   "metadata": {},
   "outputs": [
    {
     "data": {
      "text/plain": [
       "Dict{Any,Any} with 4 entries:\n",
       "  \"input.1\" => [1.0 1.0 … 1.0 1.0; 1.0 1.0 … 1.0 1.0; … ; 1.0 1.0 … 1.0 1.0; 1.…\n",
       "  \"6\"       => [0.2267 0.2267 … 0.2267 0.2267; 0.68478 0.68478 … 0.68478 0.6847…\n",
       "  \"7\"       => [-0.817395 -0.817395 … -0.817395 -0.817395; -0.259233 -0.259233 …\n",
       "  \"input\"   => [1.0 1.0 … 1.0 1.0; 1.0 1.0 … 1.0 1.0; … ; 1.0 1.0 … 1.0 1.0; 1.…"
      ]
     },
     "execution_count": 10,
     "metadata": {},
     "output_type": "execute_result"
    }
   ],
   "source": [
    "model.tensors"
   ]
  }
 ],
 "metadata": {
  "kernelspec": {
   "display_name": "Julia 1.2.0",
   "language": "julia",
   "name": "julia-1.2"
  },
  "language_info": {
   "file_extension": ".jl",
   "mimetype": "application/julia",
   "name": "julia",
   "version": "1.2.0"
  }
 },
 "nbformat": 4,
 "nbformat_minor": 2
}
