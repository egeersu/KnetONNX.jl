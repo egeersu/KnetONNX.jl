{
 "cells": [
  {
   "cell_type": "code",
   "execution_count": 1,
   "metadata": {},
   "outputs": [],
   "source": [
    "from torch.autograd import Variable\n",
    "import torch.onnx\n",
    "import torch.nn as nn\n",
    "import numpy"
   ]
  },
  {
   "cell_type": "code",
   "execution_count": 2,
   "metadata": {},
   "outputs": [],
   "source": [
    "class MLP(nn.Module):\n",
    "    def __init__(self, dim1, dim2, dim3):\n",
    "        super(MLP, self).__init__()\n",
    "        self.linear1 = nn.Linear(dim1, dim2)\n",
    "        self.linear2 = nn.Linear(dim2, dim3)\n",
    "        self.relu = nn.ReLU()\n",
    "        self.leaky = nn.LeakyReLU(0.5)\n",
    "        \n",
    "    def forward(self, x):\n",
    "        linear1_out = self.linear1(x)\n",
    "        linear2_out = self.linear2(linear1_out)\n",
    "        relu_out = self.relu(linear2_out)\n",
    "        return relu_out\n",
    "        "
   ]
  },
  {
   "cell_type": "code",
   "execution_count": 3,
   "metadata": {},
   "outputs": [],
   "source": [
    "dim1 = 5\n",
    "dim2 = 20\n",
    "dim3 = 4\n",
    "model = MLP(dim1, dim2, dim3)"
   ]
  },
  {
   "cell_type": "code",
   "execution_count": 4,
   "metadata": {},
   "outputs": [],
   "source": [
    "batchsize = 8\n",
    "dummy_input = torch.ones(batchsize, dim1)"
   ]
  },
  {
   "cell_type": "code",
   "execution_count": 5,
   "metadata": {},
   "outputs": [
    {
     "data": {
      "text/plain": [
       "tensor([[0.0000, 0.1653, 0.1650, 0.0491],\n",
       "        [0.0000, 0.1653, 0.1650, 0.0491],\n",
       "        [0.0000, 0.1653, 0.1650, 0.0491],\n",
       "        [0.0000, 0.1653, 0.1650, 0.0491],\n",
       "        [0.0000, 0.1653, 0.1650, 0.0491],\n",
       "        [0.0000, 0.1653, 0.1650, 0.0491],\n",
       "        [0.0000, 0.1653, 0.1650, 0.0491],\n",
       "        [0.0000, 0.1653, 0.1650, 0.0491]], grad_fn=<ReluBackward0>)"
      ]
     },
     "execution_count": 5,
     "metadata": {},
     "output_type": "execute_result"
    }
   ],
   "source": [
    "model(dummy_input)"
   ]
  },
  {
   "cell_type": "code",
   "execution_count": 6,
   "metadata": {},
   "outputs": [],
   "source": [
    "torch.onnx.export(model, dummy_input, \"mlp.onnx\")"
   ]
  }
 ],
 "metadata": {
  "kernelspec": {
   "display_name": "Python 3",
   "language": "python",
   "name": "python3"
  },
  "language_info": {
   "codemirror_mode": {
    "name": "ipython",
    "version": 3
   },
   "file_extension": ".py",
   "mimetype": "text/x-python",
   "name": "python",
   "nbconvert_exporter": "python",
   "pygments_lexer": "ipython3",
   "version": "3.7.4"
  }
 },
 "nbformat": 4,
 "nbformat_minor": 2
}
