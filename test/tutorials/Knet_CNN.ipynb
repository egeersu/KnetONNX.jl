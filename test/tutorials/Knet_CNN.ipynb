{
 "cells": [
  {
   "cell_type": "markdown",
   "metadata": {},
   "source": [
    "### Import Knet & ONNX"
   ]
  },
  {
   "cell_type": "code",
   "execution_count": 1,
   "metadata": {},
   "outputs": [],
   "source": [
    "using Knet;"
   ]
  },
  {
   "cell_type": "code",
   "execution_count": 11,
   "metadata": {},
   "outputs": [],
   "source": [
    "KnetOnnx_PATH = \"/Users/egeersu/Desktop/KnetOnnx.jl/src\"\n",
    "push!(LOAD_PATH, KnetOnnx_PATH)\n",
    "using KnetOnnx;"
   ]
  },
  {
   "cell_type": "code",
   "execution_count": 12,
   "metadata": {
    "scrolled": false
   },
   "outputs": [],
   "source": [
    "include(Knet.dir(\"data\",\"mnist.jl\"))\n",
    "dtrn,dtst = mnistdata();"
   ]
  },
  {
   "cell_type": "markdown",
   "metadata": {},
   "source": [
    "### Read ONNX Graph"
   ]
  },
  {
   "cell_type": "code",
   "execution_count": 13,
   "metadata": {},
   "outputs": [],
   "source": [
    "file_path = \"cnn.onnx\"\n",
    "graph = ONNXtoGraph(file_path);"
   ]
  },
  {
   "cell_type": "code",
   "execution_count": 14,
   "metadata": {},
   "outputs": [
    {
     "name": "stdout",
     "output_type": "stream",
     "text": [
      "model inputs: [\"input.1\"]\n",
      "model outputs: [\"16\"]\n",
      "(op1) Conv\n",
      "\tinput1: input.1\n",
      "\tinput2: conv1.weight\n",
      "\tinput3: conv1.bias\n",
      "\toutput1: 9\n",
      "(op2) Relu\n",
      "\tinput1: 9\n",
      "\toutput1: 10\n",
      "(op3) Conv\n",
      "\tinput1: 10\n",
      "\tinput2: conv2.weight\n",
      "\tinput3: conv2.bias\n",
      "\toutput1: 11\n",
      "(op4) MaxPool\n",
      "\tinput1: 11\n",
      "\toutput1: 12\n",
      "(op5) Flatten\n",
      "\tinput1: 12\n",
      "\toutput1: 13\n",
      "(op6) Gemm\n",
      "\tinput1: 13\n",
      "\tinput2: fc1.weight\n",
      "\tinput3: fc1.bias\n",
      "\toutput1: 14\n",
      "(op7) Relu\n",
      "\tinput1: 14\n",
      "\toutput1: 15\n",
      "(op8) Gemm\n",
      "\tinput1: 15\n",
      "\tinput2: fc2.weight\n",
      "\tinput3: fc2.bias\n",
      "\toutput1: 16\n"
     ]
    }
   ],
   "source": [
    "PrintGraph(graph)"
   ]
  },
  {
   "cell_type": "markdown",
   "metadata": {},
   "source": [
    "### Re-construct model in Knet"
   ]
  },
  {
   "cell_type": "code",
   "execution_count": 15,
   "metadata": {},
   "outputs": [],
   "source": [
    "model = KnetModel(file_path);"
   ]
  },
  {
   "cell_type": "code",
   "execution_count": 16,
   "metadata": {},
   "outputs": [
    {
     "data": {
      "text/plain": [
       "Dict{Any,Any} with 9 entries:\n",
       "  \"16\"      => Nothing\n",
       "  \"12\"      => Nothing\n",
       "  \"10\"      => Nothing\n",
       "  \"15\"      => Nothing\n",
       "  \"input.1\" => Nothing\n",
       "  \"9\"       => Nothing\n",
       "  \"11\"      => Nothing\n",
       "  \"13\"      => Nothing\n",
       "  \"14\"      => Nothing"
      ]
     },
     "execution_count": 16,
     "metadata": {},
     "output_type": "execute_result"
    }
   ],
   "source": [
    "model.tensors"
   ]
  },
  {
   "cell_type": "code",
   "execution_count": 17,
   "metadata": {},
   "outputs": [
    {
     "data": {
      "text/plain": [
       "10×100 Array{Float64,2}:\n",
       "  0.122901      0.129133     0.12323     …   0.129186     0.11251   \n",
       "  0.0393511     0.0247273    0.0446674       0.0515631    0.0369746 \n",
       "  0.000844683   0.0200402    0.015049        0.0133032    0.0115262 \n",
       "  0.0839118     0.0726088    0.0726914       0.0872949    0.0713523 \n",
       " -0.0454412    -0.0211448   -0.00398576     -0.0472456   -0.0228458 \n",
       " -0.0982851    -0.0789427   -0.0745983   …  -0.0706251   -0.0759159 \n",
       "  0.0142066     0.00980529  -0.00219377      0.00719756  -0.00854764\n",
       " -0.00444491   -0.00343109  -0.0101027      -0.0205154   -0.0251139 \n",
       " -0.0650283    -0.0685512   -0.0562406      -0.0774696   -0.0687056 \n",
       "  0.0790243     0.0754361    0.0773273       0.0897365    0.0757764 "
      ]
     },
     "execution_count": 17,
     "metadata": {},
     "output_type": "execute_result"
    }
   ],
   "source": [
    "x,y = first(dtrn)\n",
    "model(x)"
   ]
  },
  {
   "cell_type": "code",
   "execution_count": 18,
   "metadata": {},
   "outputs": [
    {
     "data": {
      "text/plain": [
       "Dict{Any,Any} with 9 entries:\n",
       "  \"16\"      => [0.122901 0.129133 … 0.129186 0.11251; 0.0393511 0.0247273 … 0.0…\n",
       "  \"12\"      => Float32[0.0 0.0 … 0.0 0.0; 0.0 0.0 … 0.0 0.116799; … ; 0.0 0.0 ……\n",
       "  \"10\"      => Float32[0.238287 0.238287 … 0.238287 0.238287; 0.238287 0.238287…\n",
       "  \"15\"      => [0.082257 0.0 … 0.0906895 0.0999589; 0.0 0.0 … 0.0 0.0; … ; 0.01…\n",
       "  \"input.1\" => Float32[0.0 0.0 … 0.0 0.0; 0.0 0.0 … 0.0 0.0; … ; 0.0 0.0 … 0.0 …\n",
       "  \"9\"       => Float32[0.238287 0.238287 … 0.238287 0.238287; 0.238287 0.238287…\n",
       "  \"11\"      => Float32[0.0 0.0 … 0.0 0.0; 0.0 0.0 … 0.0 0.0; … ; 0.0 0.0 … 0.0 …\n",
       "  \"13\"      => Float32[0.0 0.0 … 0.0 0.0; 0.0 0.0 … 0.0 0.0; … ; 0.0 0.0 … 0.0 …\n",
       "  \"14\"      => [0.082257 -0.00749584 … 0.0906895 0.0999589; -0.0728656 -0.06736…"
      ]
     },
     "execution_count": 18,
     "metadata": {},
     "output_type": "execute_result"
    }
   ],
   "source": [
    "model.tensors"
   ]
  },
  {
   "cell_type": "code",
   "execution_count": 10,
   "metadata": {},
   "outputs": [
    {
     "name": "stdout",
     "output_type": "stream",
     "text": [
      "accuracy(model, dtst) = 0.1136\n"
     ]
    },
    {
     "data": {
      "text/plain": [
       "0.1136"
      ]
     },
     "execution_count": 10,
     "metadata": {},
     "output_type": "execute_result"
    }
   ],
   "source": [
    "@show accuracy(model, dtst)"
   ]
  },
  {
   "cell_type": "markdown",
   "metadata": {},
   "source": [
    "### Re-train the model in Knet"
   ]
  },
  {
   "cell_type": "code",
   "execution_count": null,
   "metadata": {},
   "outputs": [],
   "source": [
    "EPOCH = 2\n",
    "progress!(sgd(model, repeat(dtrn,EPOCH)))\n",
    "@show accuracy(model, dtst)"
   ]
  },
  {
   "cell_type": "code",
   "execution_count": null,
   "metadata": {},
   "outputs": [],
   "source": [
    "using Images, Plots\n",
    "function predictMNIST(model, data)\n",
    "    i = rand(1:100)\n",
    "    x = reshape(rand(dtrn)[1][:,:,:,i], 28, 28, 1, 1)\n",
    "    pred = argmax(model(x), dims=1)[1][1]; if pred==10; pred=0; end\n",
    "    image = x[:,:,1,1]    \n",
    "    plot(heatmap(permutedims(image), yflip = true, title = (\"Model Output: \" * string(pred))))\n",
    "end\n",
    "predictMNIST(model, dtst)"
   ]
  }
 ],
 "metadata": {
  "kernelspec": {
   "display_name": "Julia 1.2.0",
   "language": "julia",
   "name": "julia-1.2"
  },
  "language_info": {
   "file_extension": ".jl",
   "mimetype": "application/julia",
   "name": "julia",
   "version": "1.2.0"
  }
 },
 "nbformat": 4,
 "nbformat_minor": 2
}
