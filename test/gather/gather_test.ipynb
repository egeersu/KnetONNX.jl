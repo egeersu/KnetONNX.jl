{
 "cells": [
  {
   "cell_type": "code",
   "execution_count": 11,
   "metadata": {},
   "outputs": [],
   "source": [
    "using KnetOnnx"
   ]
  },
  {
   "cell_type": "code",
   "execution_count": 32,
   "metadata": {
    "scrolled": true
   },
   "outputs": [
    {
     "name": "stdout",
     "output_type": "stream",
     "text": [
      "model inputs: [\"0\"]\n",
      "model outputs: [\"2\"]\n",
      "(op1) Constant\n",
      "\toutput1: 1\n",
      "(op2) Gather\n",
      "\tinput1: 0\n",
      "\tinput2: 1\n",
      "\toutput1: 2\n"
     ]
    }
   ],
   "source": [
    "graph = ONNXtoGraph(\"model_gather.onnx\")\n",
    "PrintGraph(graph)"
   ]
  },
  {
   "cell_type": "code",
   "execution_count": 33,
   "metadata": {},
   "outputs": [],
   "source": [
    "model = KnetModel(graph);"
   ]
  },
  {
   "cell_type": "code",
   "execution_count": 34,
   "metadata": {},
   "outputs": [
    {
     "data": {
      "text/plain": [
       "3×4 Array{Float64,2}:\n",
       "  0.642565  -0.0266282  -1.61274   0.59253 \n",
       "  1.19636    1.14969     1.05971   2.10387 \n",
       " -1.52113   -2.04965    -0.885484  0.775168"
      ]
     },
     "execution_count": 34,
     "metadata": {},
     "output_type": "execute_result"
    }
   ],
   "source": [
    "x1 = randn(3,4)"
   ]
  },
  {
   "cell_type": "code",
   "execution_count": 35,
   "metadata": {},
   "outputs": [
    {
     "data": {
      "text/plain": [
       "2-element Array{Any,1}:\n",
       " [0.6425647273409499, 1.1963594513258913, -1.521133413460643]\n",
       " [0.6425647273409499, 1.1963594513258913, -1.521133413460643]"
      ]
     },
     "execution_count": 35,
     "metadata": {},
     "output_type": "execute_result"
    }
   ],
   "source": [
    "model(x1)"
   ]
  },
  {
   "cell_type": "code",
   "execution_count": 36,
   "metadata": {},
   "outputs": [
    {
     "data": {
      "text/plain": [
       "Dict{Any,Any} with 3 entries:\n",
       "  \"1\" => Float32[0.0, 0.0]\n",
       "  \"0\" => [0.642565 -0.0266282 -1.61274 0.59253; 1.19636 1.14969 1.05971 2.10387…\n",
       "  \"2\" => Any[[0.642565, 1.19636, -1.52113], [0.642565, 1.19636, -1.52113]]"
      ]
     },
     "execution_count": 36,
     "metadata": {},
     "output_type": "execute_result"
    }
   ],
   "source": [
    "model.tensors"
   ]
  }
 ],
 "metadata": {
  "kernelspec": {
   "display_name": "Julia 1.2.0",
   "language": "julia",
   "name": "julia-1.2"
  },
  "language_info": {
   "file_extension": ".jl",
   "mimetype": "application/julia",
   "name": "julia",
   "version": "1.2.0"
  }
 },
 "nbformat": 4,
 "nbformat_minor": 2
}
