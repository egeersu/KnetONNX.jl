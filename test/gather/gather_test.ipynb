{
 "cells": [
  {
   "cell_type": "code",
   "execution_count": 1,
   "metadata": {},
   "outputs": [
    {
     "name": "stderr",
     "output_type": "stream",
     "text": [
      "┌ Info: Recompiling stale cache file /Users/egeersu/.julia/compiled/v1.2/KnetOnnx/gz8hJ.ji for KnetOnnx [5598a57d-f0b8-44c7-a305-14fa4de76fa0]\n",
      "└ @ Base loading.jl:1240\n",
      "WARNING: Method definition #iterate(Any, typeof(Base.iterate), DataFlow.ObjectArraySet{T} where T, Any...) in module DataFlow overwritten.\n",
      "  ** incremental compilation may be fatally broken for this module **\n",
      "\n",
      "WARNING: Method definition iterate(DataFlow.ObjectArraySet{T} where T, Any...) in module DataFlow at /Users/egeersu/.julia/packages/Lazy/KYseE/src/macros.jl:297 overwritten at /Users/egeersu/.julia/packages/Lazy/KYseE/src/macros.jl:297.\n",
      "  ** incremental compilation may be fatally broken for this module **\n",
      "\n",
      "WARNING: Method definition #iterate(Any, typeof(Base.iterate), DataFlow.ObjectArraySet{T} where T, Any...) in module DataFlow overwritten.\n",
      "  ** incremental compilation may be fatally broken for this module **\n",
      "\n",
      "WARNING: Method definition #iterate(Any, typeof(Base.iterate), DataFlow.ObjectArraySet{T} where T, Any...) in module DataFlow overwritten.\n",
      "  ** incremental compilation may be fatally broken for this module **\n",
      "\n",
      "WARNING: Method definition iterate(DataFlow.ObjectArraySet{T} where T, Any...) in module DataFlow at /Users/egeersu/.julia/packages/Lazy/KYseE/src/macros.jl:297 overwritten at /Users/egeersu/.julia/packages/Lazy/KYseE/src/macros.jl:297.\n",
      "  ** incremental compilation may be fatally broken for this module **\n",
      "\n",
      "WARNING: Method definition iterate(DataFlow.ObjectArraySet{T} where T, Any...) in module DataFlow at /Users/egeersu/.julia/packages/Lazy/KYseE/src/macros.jl:297 overwritten at /Users/egeersu/.julia/packages/Lazy/KYseE/src/macros.jl:297.\n",
      "  ** incremental compilation may be fatally broken for this module **\n",
      "\n"
     ]
    }
   ],
   "source": [
    "using KnetOnnx"
   ]
  },
  {
   "cell_type": "code",
   "execution_count": 2,
   "metadata": {
    "scrolled": true
   },
   "outputs": [
    {
     "name": "stdout",
     "output_type": "stream",
     "text": [
      "model inputs: [\"0\"]\n",
      "model outputs: [\"4\"]\n",
      "(op1) Constant\n",
      "\toutput1: 1\n",
      "(op2) Gather\n",
      "\tinput1: 0\n",
      "\tinput2: 1\n",
      "\toutput1: 2\n",
      "(op3) Constant\n",
      "\toutput1: 3\n",
      "(op4) Gather\n",
      "\tinput1: 2\n",
      "\tinput2: 3\n",
      "\toutput1: 4\n"
     ]
    }
   ],
   "source": [
    "graph = ONNXtoGraph(\"model_gather.onnx\")\n",
    "PrintGraph(graph)"
   ]
  },
  {
   "cell_type": "code",
   "execution_count": 3,
   "metadata": {},
   "outputs": [],
   "source": [
    "model = KnetModel(graph);"
   ]
  },
  {
   "cell_type": "code",
   "execution_count": 4,
   "metadata": {},
   "outputs": [
    {
     "data": {
      "text/plain": [
       "2×3 Array{Float64,2}:\n",
       " -2.05775  -1.29032  -0.389631\n",
       " -2.66728   1.14566   0.662499"
      ]
     },
     "execution_count": 4,
     "metadata": {},
     "output_type": "execute_result"
    }
   ],
   "source": [
    "x1 = randn(2,3)"
   ]
  },
  {
   "cell_type": "code",
   "execution_count": 5,
   "metadata": {},
   "outputs": [
    {
     "data": {
      "text/plain": [
       "2×3 Array{Float64,2}:\n",
       " -2.05775  -1.29032  -0.389631\n",
       " -2.66728   1.14566   0.662499"
      ]
     },
     "execution_count": 5,
     "metadata": {},
     "output_type": "execute_result"
    }
   ],
   "source": [
    "model(x1)"
   ]
  },
  {
   "cell_type": "code",
   "execution_count": 6,
   "metadata": {},
   "outputs": [
    {
     "data": {
      "text/plain": [
       "Dict{Any,Any} with 5 entries:\n",
       "  \"4\" => [-2.05775 -1.29032 -0.389631; -2.66728 1.14566 0.662499]\n",
       "  \"1\" => Float32[1.4013e-45, 0.0]\n",
       "  \"0\" => [-2.05775 -1.29032 -0.389631; -2.66728 1.14566 0.662499]\n",
       "  \"2\" => [-2.05775 -1.29032 -0.389631; -2.66728 1.14566 0.662499]\n",
       "  \"3\" => Float32[2.8026e-45, 0.0]"
      ]
     },
     "execution_count": 6,
     "metadata": {},
     "output_type": "execute_result"
    }
   ],
   "source": [
    "model.tensors"
   ]
  },
  {
   "cell_type": "code",
   "execution_count": null,
   "metadata": {},
   "outputs": [],
   "source": [
    "g1 = graph.node[2]\n",
    "g2 = converter_gather(g1, graph)[2]"
   ]
  },
  {
   "cell_type": "code",
   "execution_count": null,
   "metadata": {},
   "outputs": [],
   "source": [
    "g2([1.19084 -0.0401237 0.0804831; 1.67733 -2.35425 -1.873], Float32[0.0, 0.0])"
   ]
  },
  {
   "cell_type": "code",
   "execution_count": null,
   "metadata": {},
   "outputs": [],
   "source": [
    "struct Gather\n",
    "    axis #increment before adding (julia 0->1)\n",
    "end\n",
    "\n",
    "function (g::Gather)(data, indices)\n",
    "    indices_size = size(indices)\n",
    "\n",
    "    indices = (x->(x+1)).(indices) # increment for Julia\n",
    "    indices = (x->(Int32(x))).(indices) # set floats to Int for bug-free indexing\n",
    "\n",
    "    if length(indices_size) == 1\n",
    "        return gather_rank1(data, indices, g)\n",
    "    end\n",
    "    if length(indices_size) == 2\n",
    "        return gather_rank2(data, indices, g)\n",
    "    end\n",
    "    if length(indices_size) > 2\n",
    "        print(\"Gather for indices with rank > 2 are not implemented yet.\")\n",
    "    end\n",
    "end\n",
    "\n",
    "\n",
    "function gather_rank1(data, indices, layer)\n",
    "    new_data = []\n",
    "    axis1 = size(indices)[1]\n",
    "    for a1 in (1:axis1)\n",
    "        current_index = indices[a1]\n",
    "        #get_data = data[:,current_index]\n",
    "        get_data = data[layer.axis, current_index]\n",
    "        push!(new_data, get_data)\n",
    "    end\n",
    "    new_data\n",
    "end\n",
    "\n",
    "function gather_rank2(data, indices, layer)\n",
    "    new_data = []\n",
    "    axis1, axis2 = size(indices)\n",
    "\n",
    "    for a1 in (1:axis1)\n",
    "        mini_list = []\n",
    "        for a2 in (1:axis2)\n",
    "            current_index = indices[a1,a2]\n",
    "            get_data = data[:,current_index]\n",
    "            push!(mini_list, get_data)\n",
    "        end\n",
    "        push!(new_data, mini_list)\n",
    "    end\n",
    "    new_data\n",
    "end\n",
    "\n",
    "function converter_gather(node, g)\n",
    "    args = node.input\n",
    "    outs = node.output\n",
    "    axis = node.attribute[:axis] +1 #+1 is for Julia\n",
    "    #layer = KL.Gather(axis)\n",
    "    layer = Gather(axis)\n",
    "    (args, layer, outs)\n",
    "end"
   ]
  }
 ],
 "metadata": {
  "kernelspec": {
   "display_name": "Julia 1.2.0",
   "language": "julia",
   "name": "julia-1.2"
  },
  "language_info": {
   "file_extension": ".jl",
   "mimetype": "application/julia",
   "name": "julia",
   "version": "1.2.0"
  }
 },
 "nbformat": 4,
 "nbformat_minor": 2
}
