{
 "cells": [
  {
   "cell_type": "code",
   "execution_count": 37,
   "metadata": {},
   "outputs": [],
   "source": [
    "using KnetOnnx"
   ]
  },
  {
   "cell_type": "code",
   "execution_count": 38,
   "metadata": {
    "scrolled": true
   },
   "outputs": [
    {
     "name": "stdout",
     "output_type": "stream",
     "text": [
      "model inputs: [\"0\"]\n",
      "model outputs: [\"4\"]\n",
      "(op1) Constant\n",
      "\toutput1: 1\n",
      "(op2) Gather\n",
      "\tinput1: 0\n",
      "\tinput2: 1\n",
      "\toutput1: 2\n",
      "(op3) Constant\n",
      "\toutput1: 3\n",
      "(op4) Gather\n",
      "\tinput1: 2\n",
      "\tinput2: 3\n",
      "\toutput1: 4\n"
     ]
    }
   ],
   "source": [
    "graph = ONNXtoGraph(\"model_gather.onnx\")\n",
    "PrintGraph(graph)"
   ]
  },
  {
   "cell_type": "code",
   "execution_count": 39,
   "metadata": {},
   "outputs": [],
   "source": [
    "model = KnetModel(graph);"
   ]
  },
  {
   "cell_type": "code",
   "execution_count": 40,
   "metadata": {},
   "outputs": [
    {
     "data": {
      "text/plain": [
       "3×4 Array{Float64,2}:\n",
       " 0.173932  -0.538634  -0.293712  -0.0894061\n",
       " 0.386333  -0.458431  -0.201749   0.209467 \n",
       " 1.03815    0.291993   0.536754   0.38918  "
      ]
     },
     "execution_count": 40,
     "metadata": {},
     "output_type": "execute_result"
    }
   ],
   "source": [
    "x1 = randn(3,4)"
   ]
  },
  {
   "cell_type": "code",
   "execution_count": 41,
   "metadata": {},
   "outputs": [
    {
     "data": {
      "text/plain": [
       "2-element Array{Any,1}:\n",
       " Any[[0.173932028981112, 0.38633331075208355, 1.038149444151256], [0.173932028981112, 0.38633331075208355, 1.038149444151256]]\n",
       " Any[[0.173932028981112, 0.38633331075208355, 1.038149444151256], [0.173932028981112, 0.38633331075208355, 1.038149444151256]]"
      ]
     },
     "execution_count": 41,
     "metadata": {},
     "output_type": "execute_result"
    }
   ],
   "source": [
    "model(x1)"
   ]
  },
  {
   "cell_type": "code",
   "execution_count": 42,
   "metadata": {},
   "outputs": [
    {
     "data": {
      "text/plain": [
       "Dict{Any,Any} with 5 entries:\n",
       "  \"4\" => Any[Any[[0.173932, 0.386333, 1.03815], [0.173932, 0.386333, 1.03815]],…\n",
       "  \"1\" => Float32[0.0, 0.0]\n",
       "  \"0\" => [0.173932 -0.538634 -0.293712 -0.0894061; 0.386333 -0.458431 -0.201749…\n",
       "  \"2\" => Any[[0.173932, 0.386333, 1.03815], [0.173932, 0.386333, 1.03815]]\n",
       "  \"3\" => Float32[0.0, 0.0]"
      ]
     },
     "execution_count": 42,
     "metadata": {},
     "output_type": "execute_result"
    }
   ],
   "source": [
    "model.tensors"
   ]
  },
  {
   "cell_type": "code",
   "execution_count": null,
   "metadata": {},
   "outputs": [],
   "source": [
    "struct Gather\n",
    "    axis #increment before adding (julia 0->1)\n",
    "end\n",
    "\n",
    "function (g::Gather)(data, indices)\n",
    "    indices_size = size(indices)\n",
    "\n",
    "    indices = (x->(x+1)).(indices) # increment for Julia\n",
    "    indices = (x->(Int32(x))).(indices) # set floats to Int for bug-free indexing\n",
    "\n",
    "    if length(indices_size) == 1\n",
    "        return gather_rank1(data, indices)\n",
    "    end\n",
    "    if length(indices_size) == 2\n",
    "        return gather_rank2(data, indices)\n",
    "    end\n",
    "    if length(indices_size) > 2\n",
    "        print(\"Gather for indices with rank > 2 are not implemented yet.\")\n",
    "    end\n",
    "end\n",
    "\n",
    "\n",
    "function gather_rank1(data, indices)\n",
    "    new_data = []\n",
    "    axis1 = size(indices)[1]\n",
    "    for a1 in (1:axis1)\n",
    "        current_index = indices[a1]\n",
    "        #get_data = data[:,current_index]\n",
    "        get_data = data[:,current_index]\n",
    "        push!(new_data, get_data)\n",
    "    end\n",
    "    new_data\n",
    "end\n",
    "\n",
    "function gather_rank2(data, indices)\n",
    "    new_data = []\n",
    "    axis1, axis2 = size(indices)\n",
    "\n",
    "    for a1 in (1:axis1)\n",
    "        mini_list = []\n",
    "        for a2 in (1:axis2)\n",
    "            current_index = indices[a1,a2]\n",
    "            get_data = data[:,current_index]\n",
    "            push!(mini_list, get_data)\n",
    "        end\n",
    "        push!(new_data, mini_list)\n",
    "    end\n",
    "    new_data\n",
    "end\n",
    "\n",
    "function converter_gather(node, g)\n",
    "    args = node.input\n",
    "    outs = node.output\n",
    "    axis = node.attribute[:axis] +1 #+1 is for Julia\n",
    "    layer = KL.Gather(axis)\n",
    "    (args, layer, outs)\n",
    "end"
   ]
  }
 ],
 "metadata": {
  "kernelspec": {
   "display_name": "Julia 1.2.0",
   "language": "julia",
   "name": "julia-1.2"
  },
  "language_info": {
   "file_extension": ".jl",
   "mimetype": "application/julia",
   "name": "julia",
   "version": "1.2.0"
  }
 },
 "nbformat": 4,
 "nbformat_minor": 2
}
