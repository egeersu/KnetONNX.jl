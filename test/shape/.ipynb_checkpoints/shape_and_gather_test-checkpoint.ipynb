{
 "cells": [
  {
   "cell_type": "code",
   "execution_count": 1,
   "metadata": {},
   "outputs": [
    {
     "name": "stderr",
     "output_type": "stream",
     "text": [
      "┌ Info: Recompiling stale cache file /Users/egeersu/.julia/compiled/v1.2/KnetOnnx/gz8hJ.ji for KnetOnnx [5598a57d-f0b8-44c7-a305-14fa4de76fa0]\n",
      "└ @ Base loading.jl:1240\n",
      "WARNING: Method definition #iterate(Any, typeof(Base.iterate), DataFlow.ObjectArraySet{T} where T, Any...) in module DataFlow overwritten.\n",
      "  ** incremental compilation may be fatally broken for this module **\n",
      "\n",
      "WARNING: Method definition iterate(DataFlow.ObjectArraySet{T} where T, Any...) in module DataFlow at /Users/egeersu/.julia/packages/Lazy/KYseE/src/macros.jl:297 overwritten at /Users/egeersu/.julia/packages/Lazy/KYseE/src/macros.jl:297.\n",
      "  ** incremental compilation may be fatally broken for this module **\n",
      "\n",
      "WARNING: Method definition #iterate(Any, typeof(Base.iterate), DataFlow.ObjectArraySet{T} where T, Any...) in module DataFlow overwritten.\n",
      "  ** incremental compilation may be fatally broken for this module **\n",
      "\n",
      "WARNING: Method definition #iterate(Any, typeof(Base.iterate), DataFlow.ObjectArraySet{T} where T, Any...) in module DataFlow overwritten.\n",
      "  ** incremental compilation may be fatally broken for this module **\n",
      "\n",
      "WARNING: Method definition iterate(DataFlow.ObjectArraySet{T} where T, Any...) in module DataFlow at /Users/egeersu/.julia/packages/Lazy/KYseE/src/macros.jl:297 overwritten at /Users/egeersu/.julia/packages/Lazy/KYseE/src/macros.jl:297.\n",
      "  ** incremental compilation may be fatally broken for this module **\n",
      "\n",
      "WARNING: Method definition iterate(DataFlow.ObjectArraySet{T} where T, Any...) in module DataFlow at /Users/egeersu/.julia/packages/Lazy/KYseE/src/macros.jl:297 overwritten at /Users/egeersu/.julia/packages/Lazy/KYseE/src/macros.jl:297.\n",
      "  ** incremental compilation may be fatally broken for this module **\n",
      "\n"
     ]
    }
   ],
   "source": [
    "using KnetOnnx"
   ]
  },
  {
   "cell_type": "code",
   "execution_count": 2,
   "metadata": {},
   "outputs": [
    {
     "name": "stdout",
     "output_type": "stream",
     "text": [
      "model inputs: [\"0\"]\n",
      "model outputs: [\"3\", \"6\"]\n",
      "(op1) Constant\n",
      "\toutput1: 1\n",
      "(op2) Shape\n",
      "\tinput1: 0\n",
      "\toutput1: 2\n",
      "(op3) Gather\n",
      "\tinput1: 2\n",
      "\tinput2: 1\n",
      "\toutput1: 3\n",
      "(op4) Constant\n",
      "\toutput1: 4\n",
      "(op5) Shape\n",
      "\tinput1: 0\n",
      "\toutput1: 5\n",
      "(op6) Gather\n",
      "\tinput1: 5\n",
      "\tinput2: 4\n",
      "\toutput1: 6\n"
     ]
    }
   ],
   "source": [
    "file_path = \"model_shape.onnx\"\n",
    "graph = ONNXtoGraph(file_path)\n",
    "PrintGraph(graph)"
   ]
  },
  {
   "cell_type": "code",
   "execution_count": 8,
   "metadata": {},
   "outputs": [
    {
     "data": {
      "text/plain": [
       "(0, 0)"
      ]
     },
     "execution_count": 8,
     "metadata": {},
     "output_type": "execute_result"
    }
   ],
   "source": [
    "graph.node[3].attribute[:axis], graph.node[6].attribute[:axis]"
   ]
  },
  {
   "cell_type": "code",
   "execution_count": 3,
   "metadata": {},
   "outputs": [],
   "source": [
    "model = KnetModel(graph);"
   ]
  },
  {
   "cell_type": "code",
   "execution_count": 4,
   "metadata": {},
   "outputs": [
    {
     "data": {
      "text/plain": [
       "Dict{Any,Any} with 7 entries:\n",
       "  \"4\" => Nothing\n",
       "  \"1\" => Nothing\n",
       "  \"5\" => Nothing\n",
       "  \"0\" => Nothing\n",
       "  \"2\" => Nothing\n",
       "  \"6\" => Nothing\n",
       "  \"3\" => Nothing"
      ]
     },
     "execution_count": 4,
     "metadata": {},
     "output_type": "execute_result"
    }
   ],
   "source": [
    "model.tensors"
   ]
  },
  {
   "cell_type": "code",
   "execution_count": 5,
   "metadata": {},
   "outputs": [
    {
     "data": {
      "text/plain": [
       "2-element Array{Any,1}:\n",
       " Any[[2, 3], [2, 3]]\n",
       " Any[[2, 3], [2, 3]]"
      ]
     },
     "execution_count": 5,
     "metadata": {},
     "output_type": "execute_result"
    }
   ],
   "source": [
    "model(ones(2,3))"
   ]
  },
  {
   "cell_type": "code",
   "execution_count": 6,
   "metadata": {},
   "outputs": [
    {
     "data": {
      "text/plain": [
       "Dict{Any,Any} with 7 entries:\n",
       "  \"4\" => Float32[1.4013e-45, 0.0]\n",
       "  \"1\" => Float32[0.0, 0.0]\n",
       "  \"5\" => [2, 3]\n",
       "  \"0\" => [1.0 1.0 1.0; 1.0 1.0 1.0]\n",
       "  \"2\" => [2, 3]\n",
       "  \"6\" => Any[[2, 3], [2, 3]]\n",
       "  \"3\" => Any[[2, 3], [2, 3]]"
      ]
     },
     "execution_count": 6,
     "metadata": {},
     "output_type": "execute_result"
    }
   ],
   "source": [
    "model.tensors"
   ]
  },
  {
   "cell_type": "code",
   "execution_count": null,
   "metadata": {},
   "outputs": [],
   "source": [
    "data = [[1.0, 1.2] [2.3, 3.4] [4.5, 5.7]]\n",
    "\n",
    "@show size(data)\n",
    "  \n",
    "#indices = [[0, 1] [1, 2]]\n",
    "indices = [[1 1] [2 2]]\n",
    "\n",
    "@show size(indices)\n",
    "\n",
    "data"
   ]
  }
 ],
 "metadata": {
  "kernelspec": {
   "display_name": "Julia 1.2.0",
   "language": "julia",
   "name": "julia-1.2"
  },
  "language_info": {
   "file_extension": ".jl",
   "mimetype": "application/julia",
   "name": "julia",
   "version": "1.2.0"
  }
 },
 "nbformat": 4,
 "nbformat_minor": 2
}
