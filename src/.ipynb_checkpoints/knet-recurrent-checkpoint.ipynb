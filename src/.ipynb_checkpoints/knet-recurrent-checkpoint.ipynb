{
 "cells": [
  {
   "cell_type": "code",
   "execution_count": 236,
   "metadata": {},
   "outputs": [],
   "source": [
    "using KnetOnnx"
   ]
  },
  {
   "cell_type": "code",
   "execution_count": 283,
   "metadata": {},
   "outputs": [
    {
     "name": "stdout",
     "output_type": "stream",
     "text": [
      "model inputs: [\"0\"]\n",
      "model outputs: [\"2\"]\n",
      "(op1) Constant\n",
      "\toutput1: 1\n",
      "(op2) Add\n",
      "\tinput1: 0\n",
      "\tinput2: 1\n",
      "\toutput1: 2\n"
     ]
    }
   ],
   "source": [
    "file_path = \"/Users/egeersu/Desktop/KnetOnnx/src/constantmodel.onnx\"\n",
    "graph = ONNXtoGraph(file_path);\n",
    "PrintGraph(graph)"
   ]
  },
  {
   "cell_type": "code",
   "execution_count": 284,
   "metadata": {},
   "outputs": [],
   "source": [
    "model = KnetModel(file_path);"
   ]
  },
  {
   "cell_type": "code",
   "execution_count": 285,
   "metadata": {},
   "outputs": [
    {
     "data": {
      "text/plain": [
       "KnetOnnx.Proto.TensorProto([2, 2], 1, #undef, Float32[], Int32[], Array{UInt8,1}[], Int64[], \"\", \"\", UInt8[0x00, 0x00, 0x80, 0x3f, 0x00, 0x00, 0x80, 0x3f, 0x00, 0x00, 0x80, 0x3f, 0x00, 0x00, 0x80, 0x3f], Float64[], UInt64[])"
      ]
     },
     "execution_count": 285,
     "metadata": {},
     "output_type": "execute_result"
    }
   ],
   "source": [
    "node1 = graph.node[1].attribute[:value]"
   ]
  },
  {
   "cell_type": "code",
   "execution_count": 286,
   "metadata": {},
   "outputs": [
    {
     "data": {
      "text/plain": [
       "Dict{Any,Any} with 3 entries:\n",
       "  \"1\" => Nothing\n",
       "  \"0\" => Nothing\n",
       "  \"2\" => Nothing"
      ]
     },
     "execution_count": 286,
     "metadata": {},
     "output_type": "execute_result"
    }
   ],
   "source": [
    "model.tensors"
   ]
  },
  {
   "cell_type": "code",
   "execution_count": 290,
   "metadata": {},
   "outputs": [
    {
     "data": {
      "text/plain": [
       "KnetOnnx.Proto.TensorProto([2, 2], 1, #undef, Float32[], Int32[], Array{UInt8,1}[], Int64[], \"\", \"\", UInt8[0x00, 0x00, 0x80, 0x3f, 0x00, 0x00, 0x80, 0x3f, 0x00, 0x00, 0x80, 0x3f, 0x00, 0x00, 0x80, 0x3f], Float64[], UInt64[])"
      ]
     },
     "execution_count": 290,
     "metadata": {},
     "output_type": "execute_result"
    }
   ],
   "source": [
    "node1 = graph.node[1]\n",
    "val1 = node1.attribute[:value]"
   ]
  },
  {
   "cell_type": "code",
   "execution_count": 293,
   "metadata": {},
   "outputs": [
    {
     "data": {
      "text/plain": [
       "16-element Array{UInt8,1}:\n",
       " 0x00\n",
       " 0x00\n",
       " 0x80\n",
       " 0x3f\n",
       " 0x00\n",
       " 0x00\n",
       " 0x80\n",
       " 0x3f\n",
       " 0x00\n",
       " 0x00\n",
       " 0x80\n",
       " 0x3f\n",
       " 0x00\n",
       " 0x00\n",
       " 0x80\n",
       " 0x3f"
      ]
     },
     "execution_count": 293,
     "metadata": {},
     "output_type": "execute_result"
    }
   ],
   "source": [
    "val1.raw_data"
   ]
  },
  {
   "cell_type": "code",
   "execution_count": 300,
   "metadata": {},
   "outputs": [
    {
     "data": {
      "text/plain": [
       "16"
      ]
     },
     "execution_count": 300,
     "metadata": {},
     "output_type": "execute_result"
    }
   ],
   "source": [
    "length(val1.raw_data)"
   ]
  },
  {
   "cell_type": "code",
   "execution_count": 310,
   "metadata": {},
   "outputs": [
    {
     "data": {
      "text/plain": [
       "4-element Array{Int64,1}:\n",
       "  1\n",
       "  5\n",
       "  9\n",
       " 13"
      ]
     },
     "execution_count": 310,
     "metadata": {},
     "output_type": "execute_result"
    }
   ],
   "source": [
    "function UInt8toFloat32(val)\n",
    "    dims = val.dims\n",
    "    data = val1.raw_data\n",
    "    raw_length = length(data)\n",
    "    indices = collect(1:4:raw_length)\n",
    "    data_list = []\n",
    "    for i in indices; push!(data_list, vail1.)\n",
    "end\n",
    "\n",
    "UInt8toFloat32(val1)"
   ]
  }
 ],
 "metadata": {
  "kernelspec": {
   "display_name": "Julia 1.2.0",
   "language": "julia",
   "name": "julia-1.2"
  },
  "language_info": {
   "file_extension": ".jl",
   "mimetype": "application/julia",
   "name": "julia",
   "version": "1.2.0"
  }
 },
 "nbformat": 4,
 "nbformat_minor": 2
}
