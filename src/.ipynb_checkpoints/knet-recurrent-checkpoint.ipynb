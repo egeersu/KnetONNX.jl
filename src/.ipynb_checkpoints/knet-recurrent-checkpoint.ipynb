{
 "cells": [
  {
   "cell_type": "code",
   "execution_count": 1,
   "metadata": {},
   "outputs": [],
   "source": [
    "using KnetOnnx"
   ]
  },
  {
   "cell_type": "code",
   "execution_count": 16,
   "metadata": {
    "scrolled": true
   },
   "outputs": [
    {
     "name": "stdout",
     "output_type": "stream",
     "text": [
      "model inputs: [\"0\"]\n",
      "model outputs: [\"2\"]\n",
      "(op1) Constant\n",
      "\toutput1: 1\n",
      "(op2) Add\n",
      "\tinput1: 0\n",
      "\tinput2: 1\n",
      "\toutput1: 2\n"
     ]
    }
   ],
   "source": [
    "file_path = \"/Users/egeersu/Desktop/KnetOnnx/src/constantmodel.onnx\"\n",
    "graph = ONNXtoGraph(file_path);\n",
    "PrintGraph(graph)"
   ]
  },
  {
   "cell_type": "code",
   "execution_count": 17,
   "metadata": {},
   "outputs": [],
   "source": [
    "#model = KnetModel(file_path)"
   ]
  },
  {
   "cell_type": "code",
   "execution_count": 40,
   "metadata": {},
   "outputs": [
    {
     "data": {
      "text/plain": [
       "4-element Array{Any,1}:\n",
       " 191\n",
       "  64\n",
       " 128\n",
       " 192"
      ]
     },
     "execution_count": 40,
     "metadata": {},
     "output_type": "execute_result"
    }
   ],
   "source": [
    "# CONSTANT\n",
    "mutable struct constant_layer\n",
    "    data\n",
    "end\n",
    "(l::constant_layer)() = data\n",
    "\n",
    "function UInt8toFloat32(val)\n",
    "    dims = val.dims\n",
    "    data = val.raw_data\n",
    "    indices = collect(1:4:length(data))\n",
    "    data_list = []\n",
    "    for i in indices; push!(data_list, get_int(data[i:i+3])); end;\n",
    "    data_list\n",
    "end\n",
    "\n",
    "function get_int(data)\n",
    "    ints = Int32.(data)\n",
    "    c1=1; c2=1; c3=1; c4=1;\n",
    "    return c1*ints[1] + c2*ints[2] + c3*ints[3] + c4*ints[4]\n",
    "end\n",
    "\n",
    "function converter_constant(node, g)\n",
    "    args = node.input\n",
    "    outs = node.output\n",
    "    layer = constant_layer(UInt8toFloat32(node.attribute[:value]))\n",
    "    return (args, layer, outs)\n",
    "end\n",
    "\n",
    "node1 = graph.node[1]\n",
    "converter_constant(node1, graph)[2].data"
   ]
  },
  {
   "cell_type": "code",
   "execution_count": 88,
   "metadata": {},
   "outputs": [
    {
     "data": {
      "text/plain": [
       "KnetOnnx.Proto.TensorProto([2, 2], 1, #undef, Float32[], Int32[], Array{UInt8,1}[], Int64[], \"\", \"\", UInt8[0x00, 0x00, 0x80, 0x3f, 0x00, 0x00, 0x00, 0x40, 0x00, 0x00, 0x40, 0x40, 0x00, 0x00, 0x80, 0x40], Float64[], UInt64[])"
      ]
     },
     "execution_count": 88,
     "metadata": {},
     "output_type": "execute_result"
    }
   ],
   "source": [
    "val1 = node1.attribute[:value]"
   ]
  },
  {
   "cell_type": "code",
   "execution_count": 89,
   "metadata": {},
   "outputs": [],
   "source": [
    "raw1 = graph.node[1].attribute[:value].raw_data;"
   ]
  },
  {
   "cell_type": "code",
   "execution_count": 111,
   "metadata": {},
   "outputs": [
    {
     "ename": "LoadError",
     "evalue": "syntax: extra token \"struct\" after end of expression",
     "output_type": "error",
     "traceback": [
      "syntax: extra token \"struct\" after end of expression",
      ""
     ]
    }
   ],
   "source": [
    "immutable CHPrefix\n",
    "    tag::String\n",
    "    length::Int32\n",
    "end\n",
    "\n",
    "function CHPrefix(data::Array{UInt8,1})\n",
    "    tag = String(data[1:8])\n",
    "    length = reinterpret(Int32, reverse(data[9:12]))[1]\n",
    "    new(tag, length)\n",
    "end\n"
   ]
  },
  {
   "cell_type": "code",
   "execution_count": null,
   "metadata": {},
   "outputs": [],
   "source": []
  },
  {
   "cell_type": "code",
   "execution_count": 98,
   "metadata": {},
   "outputs": [
    {
     "data": {
      "text/plain": [
       "4-element Array{Any,1}:\n",
       " 3.402823669209385e38 \n",
       " 3.0                  \n",
       " 1.8446744073709552e19\n",
       " 3.402823669209385e38 "
      ]
     },
     "execution_count": 98,
     "metadata": {},
     "output_type": "execute_result"
    }
   ],
   "source": [
    "function UInt8toFloat32(val)\n",
    "    dims = val.dims\n",
    "    data = val.raw_data\n",
    "    indices = collect(1:4:length(data))\n",
    "    data_list = []\n",
    "    for i in indices; push!(data_list, get_int(data[i:i+3])); end;\n",
    "    data_list\n",
    "end\n",
    "\n",
    "function get_int(data)\n",
    "    ints = Int32.(data)\n",
    "    return (2.0)^(-ints[1]) + (2.0)^(-ints[2]) + (2.0)^(ints[3])+ (2.0)^(-ints[4])\n",
    "    #return (2.0)^(-ints[1]) + (2.0)^(-ints[2]) + (2.0)^(ints[3])+ (2.0)^(-ints[4])\n",
    "end\n",
    "\n",
    "UInt8toFloat32(val1)"
   ]
  },
  {
   "cell_type": "code",
   "execution_count": null,
   "metadata": {},
   "outputs": [],
   "source": [
    "function converter_gather(node, g)\n",
    "    \n",
    "end\n",
    "\n",
    "out = converter_gather(node3, graph)\n",
    "out.output"
   ]
  },
  {
   "cell_type": "code",
   "execution_count": null,
   "metadata": {
    "scrolled": true
   },
   "outputs": [],
   "source": [
    "model.tensors"
   ]
  },
  {
   "cell_type": "code",
   "execution_count": null,
   "metadata": {},
   "outputs": [],
   "source": [
    "node1 = graph.node[1]\n",
    "val1 = node1.attribute[:value]"
   ]
  }
 ],
 "metadata": {
  "kernelspec": {
   "display_name": "Julia 1.2.0",
   "language": "julia",
   "name": "julia-1.2"
  },
  "language_info": {
   "file_extension": ".jl",
   "mimetype": "application/julia",
   "name": "julia",
   "version": "1.2.0"
  }
 },
 "nbformat": 4,
 "nbformat_minor": 2
}
