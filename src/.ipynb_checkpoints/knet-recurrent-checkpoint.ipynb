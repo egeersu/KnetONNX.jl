{
 "cells": [
  {
   "cell_type": "code",
   "execution_count": 1,
   "metadata": {},
   "outputs": [
    {
     "name": "stderr",
     "output_type": "stream",
     "text": [
      "┌ Info: Recompiling stale cache file /Users/egeersu/.julia/compiled/v1.2/KnetOnnx/gz8hJ.ji for KnetOnnx [5598a57d-f0b8-44c7-a305-14fa4de76fa0]\n",
      "└ @ Base loading.jl:1240\n",
      "WARNING: Method definition iterate(DataFlow.ObjectArraySet{T} where T, Any...) in module DataFlow at /Users/egeersu/.julia/packages/Lazy/mAoZN/src/macros.jl:285 overwritten at /Users/egeersu/.julia/packages/Lazy/mAoZN/src/macros.jl:285.\n",
      "  ** incremental compilation may be fatally broken for this module **\n",
      "\n",
      "WARNING: Method definition iterate(DataFlow.ObjectArraySet{T} where T, Any...) in module DataFlow at /Users/egeersu/.julia/packages/Lazy/mAoZN/src/macros.jl:285 overwritten at /Users/egeersu/.julia/packages/Lazy/mAoZN/src/macros.jl:285.\n",
      "  ** incremental compilation may be fatally broken for this module **\n",
      "\n",
      "WARNING: Method definition iterate(DataFlow.ObjectArraySet{T} where T, Any...) in module DataFlow at /Users/egeersu/.julia/packages/Lazy/mAoZN/src/macros.jl:285 overwritten at /Users/egeersu/.julia/packages/Lazy/mAoZN/src/macros.jl:285.\n",
      "  ** incremental compilation may be fatally broken for this module **\n",
      "\n"
     ]
    }
   ],
   "source": [
    "using KnetOnnx"
   ]
  },
  {
   "cell_type": "code",
   "execution_count": 7,
   "metadata": {
    "scrolled": true
   },
   "outputs": [
    {
     "name": "stdout",
     "output_type": "stream",
     "text": [
      "model inputs: [\"0\"]\n",
      "model outputs: [\"4\"]\n",
      "(op1) Constant\n",
      "\toutput1: 1\n",
      "(op2) Gather\n",
      "\tinput1: 0\n",
      "\tinput2: 1\n",
      "\toutput1: 2\n",
      "(op3) Constant\n",
      "\toutput1: 3\n",
      "(op4) Gather\n",
      "\tinput1: 2\n",
      "\tinput2: 3\n",
      "\toutput1: 4\n"
     ]
    }
   ],
   "source": [
    "file_path = \"/Users/egeersu/Desktop/KnetOnnx/src/indexmodel.onnx\"\n",
    "graph = ONNXtoGraph(file_path);\n",
    "PrintGraph(graph)"
   ]
  },
  {
   "cell_type": "code",
   "execution_count": 9,
   "metadata": {},
   "outputs": [
    {
     "data": {
      "text/plain": [
       "2-element Array{Float32,1}:\n",
       " 0.0\n",
       " 0.0"
      ]
     },
     "execution_count": 9,
     "metadata": {},
     "output_type": "execute_result"
    }
   ],
   "source": [
    "input1 = KnetOnnx.converter_constant(graph.node[1], graph)[2].data"
   ]
  },
  {
   "cell_type": "code",
   "execution_count": 15,
   "metadata": {},
   "outputs": [
    {
     "data": {
      "text/plain": [
       "KnetOnnx.Types.Node(AbstractString[\"0\", \"1\"], AbstractString[\"2\"], \"\", \"Gather\", \"\", Dict{Any,Any}(:axis => 0), \"\")"
      ]
     },
     "execution_count": 15,
     "metadata": {},
     "output_type": "execute_result"
    }
   ],
   "source": [
    "node2 = graph.node[2]\n",
    "\n",
    "function converter_gather(node, g)\n",
    "    node\n",
    "end\n",
    "\n",
    "converter_gather(node2, graph)"
   ]
  }
 ],
 "metadata": {
  "kernelspec": {
   "display_name": "Julia 1.2.0",
   "language": "julia",
   "name": "julia-1.2"
  },
  "language_info": {
   "file_extension": ".jl",
   "mimetype": "application/julia",
   "name": "julia",
   "version": "1.2.0"
  }
 },
 "nbformat": 4,
 "nbformat_minor": 2
}
