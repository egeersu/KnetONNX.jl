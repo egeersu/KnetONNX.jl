{
 "cells": [
  {
   "cell_type": "code",
   "execution_count": 2,
   "metadata": {},
   "outputs": [
    {
     "name": "stderr",
     "output_type": "stream",
     "text": [
      "┌ Info: Recompiling stale cache file /Users/egeersu/.julia/compiled/v1.2/PkgTemplates/IGiQL.ji for PkgTemplates [14b8a8f1-9102-5b29-a752-f990bacb7fe1]\n",
      "└ @ Base loading.jl:1240\n"
     ]
    }
   ],
   "source": [
    "using Pkg\n",
    "using PkgTemplates"
   ]
  },
  {
   "cell_type": "code",
   "execution_count": 11,
   "metadata": {},
   "outputs": [
    {
     "data": {
      "text/plain": [
       "Template:\n",
       "  → User: egeersu\n",
       "  → Host: github.com\n",
       "  → License: MIT (Ege  <egeersu@gmail.com> 2019)\n",
       "  → Package directory: ~/Desktop/KnetONNX\n",
       "  → Minimum Julia version: v1.0\n",
       "  → SSH remote: No\n",
       "  → Add packages to main environment: Yes\n",
       "  → Commit Manifest.toml: No\n",
       "  → Plugins: None"
      ]
     },
     "execution_count": 11,
     "metadata": {},
     "output_type": "execute_result"
    }
   ],
   "source": [
    "t = Template(;\n",
    "    user = \"egeersu\",\n",
    "    dir=\"/Users/egeersu/Desktop/KnetONNX\",\n",
    ")"
   ]
  },
  {
   "cell_type": "code",
   "execution_count": null,
   "metadata": {},
   "outputs": [],
   "source": []
  }
 ],
 "metadata": {
  "kernelspec": {
   "display_name": "Julia 1.2.0",
   "language": "julia",
   "name": "julia-1.2"
  },
  "language_info": {
   "file_extension": ".jl",
   "mimetype": "application/julia",
   "name": "julia",
   "version": "1.2.0"
  }
 },
 "nbformat": 4,
 "nbformat_minor": 2
}
