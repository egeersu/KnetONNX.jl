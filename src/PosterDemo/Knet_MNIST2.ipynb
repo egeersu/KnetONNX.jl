{
 "cells": [
  {
   "cell_type": "markdown",
   "metadata": {},
   "source": [
    "### Import Knet & ONNX"
   ]
  },
  {
   "cell_type": "code",
   "execution_count": 8,
   "metadata": {},
   "outputs": [],
   "source": [
    "using Knet\n",
    "using KnetOnnx"
   ]
  },
  {
   "cell_type": "code",
   "execution_count": 9,
   "metadata": {
    "scrolled": false
   },
   "outputs": [
    {
     "name": "stdout",
     "output_type": "stream",
     "text": [
      "\u001b[32m\u001b[1m  Updating\u001b[22m\u001b[39m registry at `~/.julia/registries/General`\n",
      "\u001b[32m\u001b[1m  Updating\u001b[22m\u001b[39m git-repo `https://github.com/JuliaRegistries/General.git`\n",
      "\u001b[2K\u001b[?25h[1mFetching:\u001b[22m\u001b[39m [========================================>]  100.0 %.0 %\u001b[32m\u001b[1m Resolving\u001b[22m\u001b[39m package versions...\n",
      "\u001b[32m\u001b[1m  Updating\u001b[22m\u001b[39m `~/Desktop/KnetOnnx/Project.toml`\n",
      " \u001b[90m [944b1d66]\u001b[39m\u001b[92m + CodecZlib v0.6.0\u001b[39m\n",
      "\u001b[32m\u001b[1m  Updating\u001b[22m\u001b[39m `~/Desktop/KnetOnnx/Manifest.toml`\n",
      "\u001b[90m [no changes]\u001b[39m\n"
     ]
    },
    {
     "name": "stderr",
     "output_type": "stream",
     "text": [
      "┌ Info: Loading MNIST...\n",
      "└ @ Main /Users/egeersu/.julia/packages/Knet/LjPts/data/mnist.jl:33\n"
     ]
    }
   ],
   "source": [
    "include(Knet.dir(\"data\",\"mnist.jl\"))\n",
    "dtrn,dtst = mnistdata();"
   ]
  },
  {
   "cell_type": "markdown",
   "metadata": {},
   "source": [
    "### Read ONNX Graph"
   ]
  },
  {
   "cell_type": "code",
   "execution_count": 10,
   "metadata": {},
   "outputs": [
    {
     "ename": "UndefVarError",
     "evalue": "UndefVarError: readproto not defined",
     "output_type": "error",
     "traceback": [
      "UndefVarError: readproto not defined",
      "",
      "Stacktrace:",
      " [1] ONNXtoGraph(::String) at /Users/egeersu/Desktop/KnetOnnx/src/converters.jl:5",
      " [2] top-level scope at In[10]:2"
     ]
    }
   ],
   "source": [
    "file_path = \"cnn.onnx\"\n",
    "graph = ONNXtoGraph(file_path);"
   ]
  },
  {
   "cell_type": "code",
   "execution_count": 11,
   "metadata": {},
   "outputs": [
    {
     "ename": "UndefVarError",
     "evalue": "UndefVarError: graph not defined",
     "output_type": "error",
     "traceback": [
      "UndefVarError: graph not defined",
      "",
      "Stacktrace:",
      " [1] top-level scope at In[11]:1"
     ]
    }
   ],
   "source": [
    "PrintGraph(graph)"
   ]
  },
  {
   "cell_type": "markdown",
   "metadata": {},
   "source": [
    "### Re-construct model in Knet"
   ]
  },
  {
   "cell_type": "code",
   "execution_count": 12,
   "metadata": {},
   "outputs": [
    {
     "ename": "UndefVarError",
     "evalue": "UndefVarError: readproto not defined",
     "output_type": "error",
     "traceback": [
      "UndefVarError: readproto not defined",
      "",
      "Stacktrace:",
      " [1] ONNXtoGraph(::String) at /Users/egeersu/Desktop/KnetOnnx/src/converters.jl:5",
      " [2] KnetModel(::String) at /Users/egeersu/Desktop/KnetOnnx/src/KnetModel.jl:36",
      " [3] top-level scope at In[12]:1"
     ]
    }
   ],
   "source": [
    "model = KnetModel(file_path);"
   ]
  },
  {
   "cell_type": "code",
   "execution_count": 13,
   "metadata": {},
   "outputs": [
    {
     "ename": "UndefVarError",
     "evalue": "UndefVarError: model not defined",
     "output_type": "error",
     "traceback": [
      "UndefVarError: model not defined",
      "",
      "Stacktrace:",
      " [1] top-level scope at In[13]:1"
     ]
    }
   ],
   "source": [
    "model.tensors"
   ]
  },
  {
   "cell_type": "code",
   "execution_count": 14,
   "metadata": {},
   "outputs": [
    {
     "ename": "UndefVarError",
     "evalue": "UndefVarError: model not defined",
     "output_type": "error",
     "traceback": [
      "UndefVarError: model not defined",
      "",
      "Stacktrace:",
      " [1] top-level scope at In[14]:2"
     ]
    }
   ],
   "source": [
    "x,y = first(dtrn)\n",
    "model(x)"
   ]
  },
  {
   "cell_type": "code",
   "execution_count": 15,
   "metadata": {},
   "outputs": [
    {
     "ename": "UndefVarError",
     "evalue": "UndefVarError: model not defined",
     "output_type": "error",
     "traceback": [
      "UndefVarError: model not defined",
      "",
      "Stacktrace:",
      " [1] top-level scope at In[15]:1"
     ]
    }
   ],
   "source": [
    "model.tensors"
   ]
  },
  {
   "cell_type": "markdown",
   "metadata": {},
   "source": [
    "### Re-train the model in Knet"
   ]
  },
  {
   "cell_type": "code",
   "execution_count": null,
   "metadata": {},
   "outputs": [
    {
     "name": "stdout",
     "output_type": "stream",
     "text": [
      "accuracy(model, dtst) = 0.0851\n"
     ]
    },
    {
     "name": "stderr",
     "output_type": "stream",
     "text": [
      "┌ Warning: repeat(d::Data,n) is deprecated, use IterTools.ncycle instead.\n",
      "└ @ Knet /Users/egeersu/.julia/packages/Knet/LjPts/src/data.jl:92\n",
      "┣█▋                  ┫ [8.38%, 603/7200, 04:26/52:56, 2.44i/s] ] "
     ]
    }
   ],
   "source": [
    "EPOCH = 12\n",
    "@show accuracy(model, dtst)\n",
    "progress!(sgd(model, repeat(dtrn,EPOCH)))\n",
    "@show accuracy(model, dtst)"
   ]
  },
  {
   "cell_type": "code",
   "execution_count": null,
   "metadata": {},
   "outputs": [],
   "source": [
    "using Images, Plots\n",
    "function predictMNIST(model, data)\n",
    "    i = rand(1:100)\n",
    "    x = reshape(rand(dtrn)[1][:,:,:,i], 28, 28, 1, 1)\n",
    "    pred = argmax(model(x), dims=1)[1][1]; if pred==10; pred=0; end\n",
    "    image = x[:,:,1,1]    \n",
    "    plot(heatmap(permutedims(image), yflip = true, title = (\"Model Output: \" * string(pred))))\n",
    "end\n",
    "predictMNIST(model, dtst)"
   ]
  }
 ],
 "metadata": {
  "kernelspec": {
   "display_name": "Julia 1.2.0",
   "language": "julia",
   "name": "julia-1.2"
  },
  "language_info": {
   "file_extension": ".jl",
   "mimetype": "application/julia",
   "name": "julia",
   "version": "1.2.0"
  }
 },
 "nbformat": 4,
 "nbformat_minor": 2
}
