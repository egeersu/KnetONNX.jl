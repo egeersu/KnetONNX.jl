{
 "cells": [
  {
   "cell_type": "markdown",
   "metadata": {},
   "source": [
    "### Import Knet & ONNX"
   ]
  },
  {
   "cell_type": "code",
   "execution_count": 1,
   "metadata": {},
   "outputs": [
    {
     "name": "stderr",
     "output_type": "stream",
     "text": [
      "┌ Info: Recompiling stale cache file /Users/egeersu/.julia/compiled/v1.2/Knet/f4vSz.ji for Knet [1902f260-5fb4-5aff-8c31-6271790ab950]\n",
      "└ @ Base loading.jl:1240\n",
      "┌ Info: Recompiling stale cache file /Users/egeersu/.julia/compiled/v1.2/KnetONNX.ji for KnetONNX [top-level]\n",
      "└ @ Base loading.jl:1240\n"
     ]
    },
    {
     "name": "stdout",
     "output_type": "stream",
     "text": [
      "  Updating registry at `~/.julia/registries/General`\n",
      "  Updating git-repo `https://github.com/JuliaRegistries/General.git`\n",
      "\u001b[?25l\u001b[2K\u001b[?25h Resolving package versions...\n",
      "  Updating `~/.julia/environments/v1.2/Project.toml`\n",
      " [no changes]\n",
      "  Updating `~/.julia/environments/v1.2/Manifest.toml`\n",
      " [no changes]\n",
      " Resolving package versions...\n",
      "  Updating `~/.julia/environments/v1.2/Project.toml`\n",
      " [no changes]\n",
      "  Updating `~/.julia/environments/v1.2/Manifest.toml`\n",
      " [no changes]\n",
      " Resolving package versions...\n",
      "  Updating `~/.julia/environments/v1.2/Project.toml`\n",
      " [no changes]\n",
      "  Updating `~/.julia/environments/v1.2/Manifest.toml`\n",
      " [no changes]\n",
      " Resolving package versions...\n",
      "  Updating `~/.julia/environments/v1.2/Project.toml`\n",
      " [no changes]\n",
      "  Updating `~/.julia/environments/v1.2/Manifest.toml`\n",
      " [no changes]\n"
     ]
    },
    {
     "name": "stderr",
     "output_type": "stream",
     "text": [
      "WARNING: Method definition iterate(DataFlow.ObjectArraySet{T} where T, Any...) in module DataFlow at /Users/egeersu/.julia/packages/Lazy/mAoZN/src/macros.jl:285 overwritten at /Users/egeersu/.julia/packages/Lazy/mAoZN/src/macros.jl:285.\n",
      "  ** incremental compilation may be fatally broken for this module **\n",
      "\n",
      "WARNING: Method definition iterate(DataFlow.ObjectArraySet{T} where T, Any...) in module DataFlow at /Users/egeersu/.julia/packages/Lazy/mAoZN/src/macros.jl:285 overwritten at /Users/egeersu/.julia/packages/Lazy/mAoZN/src/macros.jl:285.\n",
      "  ** incremental compilation may be fatally broken for this module **\n",
      "\n",
      "WARNING: Method definition iterate(DataFlow.ObjectArraySet{T} where T, Any...) in module DataFlow at /Users/egeersu/.julia/packages/Lazy/mAoZN/src/macros.jl:285 overwritten at /Users/egeersu/.julia/packages/Lazy/mAoZN/src/macros.jl:285.\n",
      "  ** incremental compilation may be fatally broken for this module **\n",
      "\n"
     ]
    },
    {
     "name": "stdout",
     "output_type": "stream",
     "text": [
      " Resolving package versions...\n",
      "  Updating `~/.julia/environments/v1.2/Project.toml`\n",
      " [no changes]\n",
      "  Updating `~/.julia/environments/v1.2/Manifest.toml`\n",
      " [no changes]\n",
      " Resolving package versions...\n",
      "  Updating `~/.julia/environments/v1.2/Project.toml`\n",
      " [no changes]\n",
      "  Updating `~/.julia/environments/v1.2/Manifest.toml`\n",
      " [no changes]\n",
      " Resolving package versions...\n",
      "  Updating `~/.julia/environments/v1.2/Project.toml`\n",
      " [no changes]\n",
      "  Updating `~/.julia/environments/v1.2/Manifest.toml`\n",
      " [no changes]\n"
     ]
    }
   ],
   "source": [
    "push!(LOAD_PATH, \"/Users/egeersu/Desktop/KnetONNX\")\n",
    "using Knet; using KnetONNX;"
   ]
  },
  {
   "cell_type": "markdown",
   "metadata": {},
   "source": [
    "### Import MNIST Dataset"
   ]
  },
  {
   "cell_type": "code",
   "execution_count": 2,
   "metadata": {
    "scrolled": false
   },
   "outputs": [
    {
     "name": "stderr",
     "output_type": "stream",
     "text": [
      "┌ Info: Loading MNIST...\n",
      "└ @ Main /Users/egeersu/.julia/packages/Knet/LjPts/data/mnist.jl:33\n"
     ]
    }
   ],
   "source": [
    "include(Knet.dir(\"data\",\"mnist.jl\"))\n",
    "dtrn,dtst = mnistdata();"
   ]
  },
  {
   "cell_type": "markdown",
   "metadata": {},
   "source": [
    "### Read ONNX Graph"
   ]
  },
  {
   "cell_type": "code",
   "execution_count": 3,
   "metadata": {},
   "outputs": [],
   "source": [
    "file_path = \"cnn.onnx\"\n",
    "graph = ONNXtoGraph(file_path);"
   ]
  },
  {
   "cell_type": "code",
   "execution_count": 4,
   "metadata": {},
   "outputs": [
    {
     "name": "stdout",
     "output_type": "stream",
     "text": [
      "model inputs: [\"input.1\"]\n",
      "model outputs: [\"16\"]\n",
      "(op1) Conv\n",
      "\tinput1: input.1\n",
      "\tinput2: conv1.weight\n",
      "\tinput3: conv1.bias\n",
      "\toutput1: 9\n",
      "(op2) Relu\n",
      "\tinput1: 9\n",
      "\toutput1: 10\n",
      "(op3) Conv\n",
      "\tinput1: 10\n",
      "\tinput2: conv2.weight\n",
      "\tinput3: conv2.bias\n",
      "\toutput1: 11\n",
      "(op4) MaxPool\n",
      "\tinput1: 11\n",
      "\toutput1: 12\n",
      "(op5) Flatten\n",
      "\tinput1: 12\n",
      "\toutput1: 13\n",
      "(op6) Gemm\n",
      "\tinput1: 13\n",
      "\tinput2: fc1.weight\n",
      "\tinput3: fc1.bias\n",
      "\toutput1: 14\n",
      "(op7) Relu\n",
      "\tinput1: 14\n",
      "\toutput1: 15\n",
      "(op8) Gemm\n",
      "\tinput1: 15\n",
      "\tinput2: fc2.weight\n",
      "\tinput3: fc2.bias\n",
      "\toutput1: 16\n"
     ]
    }
   ],
   "source": [
    "PrintGraph(graph)"
   ]
  },
  {
   "cell_type": "markdown",
   "metadata": {},
   "source": [
    "### Re-construct model in Knet"
   ]
  },
  {
   "cell_type": "code",
   "execution_count": 5,
   "metadata": {},
   "outputs": [],
   "source": [
    "model = KnetModel(file_path);"
   ]
  },
  {
   "cell_type": "code",
   "execution_count": 6,
   "metadata": {},
   "outputs": [
    {
     "data": {
      "text/plain": [
       "Dict{Any,Any} with 9 entries:\n",
       "  \"16\"      => Nothing\n",
       "  \"12\"      => Nothing\n",
       "  \"10\"      => Nothing\n",
       "  \"15\"      => Nothing\n",
       "  \"input.1\" => Nothing\n",
       "  \"9\"       => Nothing\n",
       "  \"11\"      => Nothing\n",
       "  \"13\"      => Nothing\n",
       "  \"14\"      => Nothing"
      ]
     },
     "execution_count": 6,
     "metadata": {},
     "output_type": "execute_result"
    }
   ],
   "source": [
    "model.tensors"
   ]
  },
  {
   "cell_type": "code",
   "execution_count": 7,
   "metadata": {},
   "outputs": [
    {
     "data": {
      "text/plain": [
       "10×100 Array{Float64,2}:\n",
       "  0.00688652   0.00917013  -0.00259837  …   0.00614007   0.0114612 \n",
       " -0.00818903  -0.0137643   -0.0102672       0.00333974  -0.00111273\n",
       "  0.00370724   0.00683479   0.00230479      0.00431322   0.0129871 \n",
       " -0.0154673   -0.0265758   -0.0316635      -0.0195268   -0.00716003\n",
       "  0.0105915    0.00635175   0.0161738       0.0116838    0.00280042\n",
       " -0.0178261   -0.00743105  -0.0201928   …  -0.0213988   -0.0167451 \n",
       "  0.0277145    0.0300079    0.0226946       0.030516     0.0265466 \n",
       " -0.0490445   -0.0393938   -0.0515743      -0.0602835   -0.0473173 \n",
       " -0.0910558   -0.10287     -0.0942828      -0.0964049   -0.0861046 \n",
       "  0.00690013   0.00820625   0.0149876       0.0114692    0.00234541"
      ]
     },
     "execution_count": 7,
     "metadata": {},
     "output_type": "execute_result"
    }
   ],
   "source": [
    "x,y = first(dtrn)\n",
    "model(x)"
   ]
  },
  {
   "cell_type": "code",
   "execution_count": 8,
   "metadata": {},
   "outputs": [
    {
     "data": {
      "text/plain": [
       "Dict{Any,Any} with 9 entries:\n",
       "  \"16\"      => [0.00688652 0.00917013 … 0.00614007 0.0114612; -0.00818903 -0.01…\n",
       "  \"12\"      => Float32[0.163167 0.163167 … 0.247042 0.274655; 0.163167 0.174199…\n",
       "  \"10\"      => Float32[0.270338 0.270338 … 0.270338 0.270338; 0.270338 0.270338…\n",
       "  \"15\"      => [0.0 0.0174199 … 0.0 0.00563313; 0.0 0.0 … 0.0 0.0; … ; 0.018511…\n",
       "  \"input.1\" => Float32[0.0 0.0 … 0.0 0.0; 0.0 0.0 … 0.0 0.0; … ; 0.0 0.0 … 0.0 …\n",
       "  \"9\"       => Float32[0.270338 0.270338 … 0.270338 0.270338; 0.270338 0.270338…\n",
       "  \"11\"      => Float32[0.163167 0.163167 … 0.197775 0.159843; 0.163167 0.163167…\n",
       "  \"13\"      => Float32[0.163167 0.163167 … 0.163167 0.163167; 0.163167 0.163167…\n",
       "  \"14\"      => [-0.00175756 0.0174199 … -0.00220476 0.00563313; -0.0885887 -0.0…"
      ]
     },
     "execution_count": 8,
     "metadata": {},
     "output_type": "execute_result"
    }
   ],
   "source": [
    "model.tensors"
   ]
  },
  {
   "cell_type": "markdown",
   "metadata": {},
   "source": [
    "### Re-train the model in Knet"
   ]
  },
  {
   "cell_type": "code",
   "execution_count": null,
   "metadata": {},
   "outputs": [
    {
     "name": "stdout",
     "output_type": "stream",
     "text": [
      "accuracy(model, dtst) = 0.0851\n"
     ]
    },
    {
     "name": "stderr",
     "output_type": "stream",
     "text": [
      "┌ Warning: repeat(d::Data,n) is deprecated, use IterTools.ncycle instead.\n",
      "└ @ Knet /Users/egeersu/.julia/packages/Knet/LjPts/src/data.jl:92\n",
      "┣█▋                  ┫ [8.38%, 603/7200, 04:26/52:56, 2.44i/s] ] "
     ]
    }
   ],
   "source": [
    "EPOCH = 12\n",
    "@show accuracy(model, dtst)\n",
    "progress!(sgd(model, repeat(dtrn,EPOCH)))\n",
    "@show accuracy(model, dtst)"
   ]
  },
  {
   "cell_type": "code",
   "execution_count": null,
   "metadata": {},
   "outputs": [],
   "source": [
    "using Images, Plots\n",
    "function predictMNIST(model, data)\n",
    "    i = rand(1:100)\n",
    "    x = reshape(rand(dtrn)[1][:,:,:,i], 28, 28, 1, 1)\n",
    "    pred = argmax(model(x), dims=1)[1][1]; if pred==10; pred=0; end\n",
    "    image = x[:,:,1,1]    \n",
    "    plot(heatmap(permutedims(image), yflip = true, title = (\"Model Output: \" * string(pred))))\n",
    "end\n",
    "predictMNIST(model, dtst)"
   ]
  }
 ],
 "metadata": {
  "kernelspec": {
   "display_name": "Julia 1.2.0",
   "language": "julia",
   "name": "julia-1.2"
  },
  "language_info": {
   "file_extension": ".jl",
   "mimetype": "application/julia",
   "name": "julia",
   "version": "1.2.0"
  }
 },
 "nbformat": 4,
 "nbformat_minor": 2
}
