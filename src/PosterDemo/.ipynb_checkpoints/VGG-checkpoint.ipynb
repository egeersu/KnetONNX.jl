{
 "cells": [
  {
   "cell_type": "code",
   "execution_count": 1,
   "metadata": {},
   "outputs": [
    {
     "data": {
      "text/plain": [
       "4-element Array{String,1}:\n",
       " \"@\"                              \n",
       " \"@v#.#\"                          \n",
       " \"@stdlib\"                        \n",
       " \"/Users/egeersu/Desktop/KnetONNX\""
      ]
     },
     "execution_count": 1,
     "metadata": {},
     "output_type": "execute_result"
    }
   ],
   "source": [
    "push!(LOAD_PATH, \"/Users/egeersu/Desktop/KnetONNX\")"
   ]
  },
  {
   "cell_type": "code",
   "execution_count": 2,
   "metadata": {
    "scrolled": true
   },
   "outputs": [
    {
     "name": "stderr",
     "output_type": "stream",
     "text": [
      "┌ Info: Precompiling KnetONNX [top-level]\n",
      "└ @ Base loading.jl:1242\n"
     ]
    },
    {
     "name": "stdout",
     "output_type": "stream",
     "text": [
      "  Updating registry at `~/.julia/registries/General`\n",
      "  Updating git-repo `https://github.com/JuliaRegistries/General.git`\n",
      "\u001b[?25l\u001b[2K\u001b[?25h Resolving package versions...\n",
      "  Updating `~/.julia/environments/v1.2/Project.toml`\n",
      " [no changes]\n",
      "  Updating `~/.julia/environments/v1.2/Manifest.toml`\n",
      " [no changes]\n",
      " Resolving package versions...\n",
      "  Updating `~/.julia/environments/v1.2/Project.toml`\n",
      " [no changes]\n",
      "  Updating `~/.julia/environments/v1.2/Manifest.toml`\n",
      " [no changes]\n",
      " Resolving package versions...\n",
      "  Updating `~/.julia/environments/v1.2/Project.toml`\n",
      " [no changes]\n",
      "  Updating `~/.julia/environments/v1.2/Manifest.toml`\n",
      " [no changes]\n",
      " Resolving package versions...\n",
      "  Updating `~/.julia/environments/v1.2/Project.toml`\n",
      " [no changes]\n",
      "  Updating `~/.julia/environments/v1.2/Manifest.toml`\n",
      " [no changes]\n"
     ]
    },
    {
     "name": "stderr",
     "output_type": "stream",
     "text": [
      "WARNING: Method definition iterate(DataFlow.ObjectArraySet{T} where T, Any...) in module DataFlow at /Users/egeersu/.julia/packages/Lazy/mAoZN/src/macros.jl:285 overwritten at /Users/egeersu/.julia/packages/Lazy/mAoZN/src/macros.jl:285.\n",
      "  ** incremental compilation may be fatally broken for this module **\n",
      "\n",
      "WARNING: Method definition iterate(DataFlow.ObjectArraySet{T} where T, Any...) in module DataFlow at /Users/egeersu/.julia/packages/Lazy/mAoZN/src/macros.jl:285 overwritten at /Users/egeersu/.julia/packages/Lazy/mAoZN/src/macros.jl:285.\n",
      "  ** incremental compilation may be fatally broken for this module **\n",
      "\n",
      "WARNING: Method definition iterate(DataFlow.ObjectArraySet{T} where T, Any...) in module DataFlow at /Users/egeersu/.julia/packages/Lazy/mAoZN/src/macros.jl:285 overwritten at /Users/egeersu/.julia/packages/Lazy/mAoZN/src/macros.jl:285.\n",
      "  ** incremental compilation may be fatally broken for this module **\n",
      "\n"
     ]
    },
    {
     "name": "stdout",
     "output_type": "stream",
     "text": [
      " Resolving package versions...\n",
      "  Updating `~/.julia/environments/v1.2/Project.toml`\n",
      " [no changes]\n",
      "  Updating `~/.julia/environments/v1.2/Manifest.toml`\n",
      " [no changes]\n",
      " Resolving package versions...\n",
      "  Updating `~/.julia/environments/v1.2/Project.toml`\n",
      " [no changes]\n",
      "  Updating `~/.julia/environments/v1.2/Manifest.toml`\n",
      " [no changes]\n",
      " Resolving package versions...\n",
      "  Updating `~/.julia/environments/v1.2/Project.toml`\n",
      " [no changes]\n",
      "  Updating `~/.julia/environments/v1.2/Manifest.toml`\n",
      " [no changes]\n"
     ]
    }
   ],
   "source": [
    "using KnetONNX;\n",
    "using Knet;"
   ]
  },
  {
   "cell_type": "code",
   "execution_count": 3,
   "metadata": {},
   "outputs": [
    {
     "name": "stdout",
     "output_type": "stream",
     "text": [
      "model inputs: [\"data\", \"vgg0_conv0_weight\", \"vgg0_conv0_bias\", \"vgg0_conv1_weight\", \"vgg0_conv1_bias\", \"vgg0_conv2_weight\", \"vgg0_conv2_bias\", \"vgg0_conv3_weight\", \"vgg0_conv3_bias\", \"vgg0_conv4_weight\", \"vgg0_conv4_bias\", \"vgg0_conv5_weight\", \"vgg0_conv5_bias\", \"vgg0_conv6_weight\", \"vgg0_conv6_bias\", \"vgg0_conv7_weight\", \"vgg0_conv7_bias\", \"vgg0_conv8_weight\", \"vgg0_conv8_bias\", \"vgg0_conv9_weight\", \"vgg0_conv9_bias\", \"vgg0_conv10_weight\", \"vgg0_conv10_bias\", \"vgg0_conv11_weight\", \"vgg0_conv11_bias\", \"vgg0_conv12_weight\", \"vgg0_conv12_bias\", \"vgg0_dense0_weight\", \"vgg0_dense0_bias\", \"vgg0_dense1_weight\", \"vgg0_dense1_bias\", \"vgg0_dense2_weight\", \"vgg0_dense2_bias\"]\n",
      "model outputs: [\"vgg0_dense2_fwd\"]\n",
      "(op1) Conv\n",
      "\tinput1: data\n",
      "\tinput2: vgg0_conv0_weight\n",
      "\tinput3: vgg0_conv0_bias\n",
      "\toutput1: vgg0_conv0_fwd\n",
      "(op2) Relu\n",
      "\tinput1: vgg0_conv0_fwd\n",
      "\toutput1: vgg0_relu0_fwd\n",
      "(op3) Conv\n",
      "\tinput1: vgg0_relu0_fwd\n",
      "\tinput2: vgg0_conv1_weight\n",
      "\tinput3: vgg0_conv1_bias\n",
      "\toutput1: vgg0_conv1_fwd\n",
      "(op4) Relu\n",
      "\tinput1: vgg0_conv1_fwd\n",
      "\toutput1: vgg0_relu1_fwd\n",
      "(op5) MaxPool\n",
      "\tinput1: vgg0_relu1_fwd\n",
      "\toutput1: vgg0_pool0_fwd\n",
      "(op6) Conv\n",
      "\tinput1: vgg0_pool0_fwd\n",
      "\tinput2: vgg0_conv2_weight\n",
      "\tinput3: vgg0_conv2_bias\n",
      "\toutput1: vgg0_conv2_fwd\n",
      "(op7) Relu\n",
      "\tinput1: vgg0_conv2_fwd\n",
      "\toutput1: vgg0_relu2_fwd\n",
      "(op8) Conv\n",
      "\tinput1: vgg0_relu2_fwd\n",
      "\tinput2: vgg0_conv3_weight\n",
      "\tinput3: vgg0_conv3_bias\n",
      "\toutput1: vgg0_conv3_fwd\n",
      "(op9) Relu\n",
      "\tinput1: vgg0_conv3_fwd\n",
      "\toutput1: vgg0_relu3_fwd\n",
      "(op10) MaxPool\n",
      "\tinput1: vgg0_relu3_fwd\n",
      "\toutput1: vgg0_pool1_fwd\n",
      "(op11) Conv\n",
      "\tinput1: vgg0_pool1_fwd\n",
      "\tinput2: vgg0_conv4_weight\n",
      "\tinput3: vgg0_conv4_bias\n",
      "\toutput1: vgg0_conv4_fwd\n",
      "(op12) Relu\n",
      "\tinput1: vgg0_conv4_fwd\n",
      "\toutput1: vgg0_relu4_fwd\n",
      "(op13) Conv\n",
      "\tinput1: vgg0_relu4_fwd\n",
      "\tinput2: vgg0_conv5_weight\n",
      "\tinput3: vgg0_conv5_bias\n",
      "\toutput1: vgg0_conv5_fwd\n",
      "(op14) Relu\n",
      "\tinput1: vgg0_conv5_fwd\n",
      "\toutput1: vgg0_relu5_fwd\n",
      "(op15) Conv\n",
      "\tinput1: vgg0_relu5_fwd\n",
      "\tinput2: vgg0_conv6_weight\n",
      "\tinput3: vgg0_conv6_bias\n",
      "\toutput1: vgg0_conv6_fwd\n",
      "(op16) Relu\n",
      "\tinput1: vgg0_conv6_fwd\n",
      "\toutput1: vgg0_relu6_fwd\n",
      "(op17) MaxPool\n",
      "\tinput1: vgg0_relu6_fwd\n",
      "\toutput1: vgg0_pool2_fwd\n",
      "(op18) Conv\n",
      "\tinput1: vgg0_pool2_fwd\n",
      "\tinput2: vgg0_conv7_weight\n",
      "\tinput3: vgg0_conv7_bias\n",
      "\toutput1: vgg0_conv7_fwd\n",
      "(op19) Relu\n",
      "\tinput1: vgg0_conv7_fwd\n",
      "\toutput1: vgg0_relu7_fwd\n",
      "(op20) Conv\n",
      "\tinput1: vgg0_relu7_fwd\n",
      "\tinput2: vgg0_conv8_weight\n",
      "\tinput3: vgg0_conv8_bias\n",
      "\toutput1: vgg0_conv8_fwd\n",
      "(op21) Relu\n",
      "\tinput1: vgg0_conv8_fwd\n",
      "\toutput1: vgg0_relu8_fwd\n",
      "(op22) Conv\n",
      "\tinput1: vgg0_relu8_fwd\n",
      "\tinput2: vgg0_conv9_weight\n",
      "\tinput3: vgg0_conv9_bias\n",
      "\toutput1: vgg0_conv9_fwd\n",
      "(op23) Relu\n",
      "\tinput1: vgg0_conv9_fwd\n",
      "\toutput1: vgg0_relu9_fwd\n",
      "(op24) MaxPool\n",
      "\tinput1: vgg0_relu9_fwd\n",
      "\toutput1: vgg0_pool3_fwd\n",
      "(op25) Conv\n",
      "\tinput1: vgg0_pool3_fwd\n",
      "\tinput2: vgg0_conv10_weight\n",
      "\tinput3: vgg0_conv10_bias\n",
      "\toutput1: vgg0_conv10_fwd\n",
      "(op26) Relu\n",
      "\tinput1: vgg0_conv10_fwd\n",
      "\toutput1: vgg0_relu10_fwd\n",
      "(op27) Conv\n",
      "\tinput1: vgg0_relu10_fwd\n",
      "\tinput2: vgg0_conv11_weight\n",
      "\tinput3: vgg0_conv11_bias\n",
      "\toutput1: vgg0_conv11_fwd\n",
      "(op28) Relu\n",
      "\tinput1: vgg0_conv11_fwd\n",
      "\toutput1: vgg0_relu11_fwd\n",
      "(op29) Conv\n",
      "\tinput1: vgg0_relu11_fwd\n",
      "\tinput2: vgg0_conv12_weight\n",
      "\tinput3: vgg0_conv12_bias\n",
      "\toutput1: vgg0_conv12_fwd\n",
      "(op30) Relu\n",
      "\tinput1: vgg0_conv12_fwd\n",
      "\toutput1: vgg0_relu12_fwd\n",
      "(op31) MaxPool\n",
      "\tinput1: vgg0_relu12_fwd\n",
      "\toutput1: vgg0_pool4_fwd\n",
      "(op32) Flatten\n",
      "\tinput1: vgg0_pool4_fwd\n",
      "\toutput1: flatten_60\n",
      "(op33) Gemm\n",
      "\tinput1: flatten_60\n",
      "\tinput2: vgg0_dense0_weight\n",
      "\tinput3: vgg0_dense0_bias\n",
      "\toutput1: vgg0_dense0_fwd\n",
      "(op34) Relu\n",
      "\tinput1: vgg0_dense0_fwd\n",
      "\toutput1: vgg0_dense0_relu_fwd\n",
      "(op35) Dropout\n",
      "\tinput1: vgg0_dense0_relu_fwd\n",
      "\toutput1: vgg0_dropout0_fwd\n",
      "(op36) Flatten\n",
      "\tinput1: vgg0_dropout0_fwd\n",
      "\toutput1: flatten_65\n",
      "(op37) Gemm\n",
      "\tinput1: flatten_65\n",
      "\tinput2: vgg0_dense1_weight\n",
      "\tinput3: vgg0_dense1_bias\n",
      "\toutput1: vgg0_dense1_fwd\n",
      "(op38) Relu\n",
      "\tinput1: vgg0_dense1_fwd\n",
      "\toutput1: vgg0_dense1_relu_fwd\n",
      "(op39) Dropout\n",
      "\tinput1: vgg0_dense1_relu_fwd\n",
      "\toutput1: vgg0_dropout1_fwd\n",
      "(op40) Flatten\n",
      "\tinput1: vgg0_dropout1_fwd\n",
      "\toutput1: flatten_70\n",
      "(op41) Gemm\n",
      "\tinput1: flatten_70\n",
      "\tinput2: vgg0_dense2_weight\n",
      "\tinput3: vgg0_dense2_bias\n",
      "\toutput1: vgg0_dense2_fwd\n"
     ]
    }
   ],
   "source": [
    "#Test: vgg16\n",
    "file_path = \"/Users/egeersu/Desktop/ONNX_models/vgg16.onnx\"\n",
    "graph = ONNXtoGraph(file_path)\n",
    "PrintGraph(graph)"
   ]
  },
  {
   "cell_type": "code",
   "execution_count": 10,
   "metadata": {},
   "outputs": [],
   "source": [
    "model = KnetModel(file_path);"
   ]
  },
  {
   "cell_type": "code",
   "execution_count": 14,
   "metadata": {},
   "outputs": [
    {
     "name": "stdout",
     "output_type": "stream",
     "text": [
      "forward begins\n"
     ]
    },
    {
     "data": {
      "text/plain": [
       "1000×10 Array{Float32,2}:\n",
       " -1.45408    -1.26206   -0.878793   …  -0.879532   -1.05124    -0.667932\n",
       "  0.0173402  -0.316362  -0.437695      -0.54229    -0.676786   -0.259809\n",
       " -0.75097    -1.26804   -1.05624       -0.960784   -1.27238    -0.560529\n",
       " -0.466666   -0.943507  -0.784384      -0.692391   -0.996568   -0.30091 \n",
       "  0.0500471  -0.12969   -0.0492547     -0.0596386  -0.187995    0.454886\n",
       " -0.730311   -0.81354   -0.527685   …  -0.595503   -0.696547   -0.242823\n",
       "  0.221823    0.145898   0.24061        0.233484    0.108747    0.476777\n",
       " -0.31686    -0.203405  -0.101491      -0.217741   -0.187873   -0.506953\n",
       " -0.509925   -0.452543  -0.109275      -0.363644    0.0108938  -0.417066\n",
       " -1.16678    -1.36481   -0.731816      -1.26477    -0.837233   -1.63444 \n",
       " -1.48596    -1.76947   -2.05142    …  -1.90044    -1.67228    -1.89315 \n",
       " -1.01107    -1.10897   -1.18231       -0.842574   -0.921609   -1.4155  \n",
       " -1.07258    -1.31936   -1.28065       -1.30144    -1.22295    -1.56552 \n",
       "  ⋮                                 ⋱                                   \n",
       " -0.0067632  -0.167105  -0.145956      -0.333158   -0.215286   -0.13291 \n",
       "  0.21027    -0.279144  -0.556868      -0.317527   -0.369385   -0.533912\n",
       " -0.0769918   0.043449   0.1628     …   0.30699     0.0375011  -0.258682\n",
       " -0.345555   -0.659273  -0.85693       -0.571218   -0.636998   -0.900194\n",
       " -0.436667   -0.539406  -0.737252      -0.627871   -0.476811   -0.387092\n",
       " -2.19619    -2.46798   -2.46749       -2.55803    -2.51783    -2.15667 \n",
       " -2.29452    -2.45172   -2.62469       -2.65077    -2.68609    -2.45917 \n",
       " -1.37319    -1.69941   -1.85069    …  -1.59891    -1.60833    -1.61521 \n",
       " -1.22403    -1.28124   -1.39079       -1.3188     -1.23325    -1.19575 \n",
       " -1.58974    -1.36866   -1.5524        -1.4475     -1.50083    -1.34845 \n",
       "  0.789529    0.851141   0.54652        0.840422    1.11749     0.537359\n",
       "  1.76594     2.14506    1.81881        1.9877      1.89028     1.80716 "
      ]
     },
     "execution_count": 14,
     "metadata": {},
     "output_type": "execute_result"
    }
   ],
   "source": [
    "xi = randn(Float32,224,224,3,10)\n",
    "model(xi)"
   ]
  }
 ],
 "metadata": {
  "kernelspec": {
   "display_name": "Julia 1.2.0",
   "language": "julia",
   "name": "julia-1.2"
  },
  "language_info": {
   "file_extension": ".jl",
   "mimetype": "application/julia",
   "name": "julia",
   "version": "1.2.0"
  }
 },
 "nbformat": 4,
 "nbformat_minor": 2
}
