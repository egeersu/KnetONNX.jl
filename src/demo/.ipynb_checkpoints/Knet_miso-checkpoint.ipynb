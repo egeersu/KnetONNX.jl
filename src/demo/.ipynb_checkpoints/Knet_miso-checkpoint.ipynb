{
 "cells": [
  {
   "cell_type": "code",
   "execution_count": 6,
   "metadata": {},
   "outputs": [],
   "source": [
    "push!(LOAD_PATH, \"/Users/egeersu/Desktop/KnetONNX\")\n",
    "using Knet; using KnetONNX;"
   ]
  },
  {
   "cell_type": "code",
   "execution_count": 12,
   "metadata": {},
   "outputs": [
    {
     "data": {
      "text/plain": [
       "\"simo.onnx\""
      ]
     },
     "execution_count": 12,
     "metadata": {},
     "output_type": "execute_result"
    }
   ],
   "source": [
    "file_path = \"simo.onnx\""
   ]
  },
  {
   "cell_type": "code",
   "execution_count": 13,
   "metadata": {},
   "outputs": [
    {
     "name": "stdout",
     "output_type": "stream",
     "text": [
      "model inputs: [\"input.1\"]\n",
      "model outputs: [\"5\", \"6\"]\n",
      "(op1) Gemm\n",
      "\tinput1: input.1\n",
      "\tinput2: linear1.weight\n",
      "\tinput3: linear1.bias\n",
      "\toutput1: 5\n",
      "(op2) Gemm\n",
      "\tinput1: 5\n",
      "\tinput2: linear2.weight\n",
      "\tinput3: linear2.bias\n",
      "\toutput1: 6\n"
     ]
    }
   ],
   "source": [
    "PrintGraph(ONNXtoGraph(file_path))"
   ]
  },
  {
   "cell_type": "code",
   "execution_count": 14,
   "metadata": {},
   "outputs": [],
   "source": [
    "model = KnetModel(file_path);"
   ]
  },
  {
   "cell_type": "code",
   "execution_count": 16,
   "metadata": {},
   "outputs": [],
   "source": [
    "dim1 = 4\n",
    "batchsize = 5\n",
    "\n",
    "x = ones(dim1, batchsize);"
   ]
  },
  {
   "cell_type": "code",
   "execution_count": 18,
   "metadata": {},
   "outputs": [
    {
     "name": "stdout",
     "output_type": "stream",
     "text": [
      "forward begins\n"
     ]
    }
   ],
   "source": [
    "out1, out2 = model(x);"
   ]
  },
  {
   "cell_type": "code",
   "execution_count": 21,
   "metadata": {},
   "outputs": [
    {
     "data": {
      "text/plain": [
       "5×10 LinearAlgebra.Transpose{Float64,Array{Float64,2}}:\n",
       " 0.305103  0.639426  -1.34836  -0.00862974  …  -0.551425  -0.101309  0.528316\n",
       " 0.305103  0.639426  -1.34836  -0.00862974     -0.551425  -0.101309  0.528316\n",
       " 0.305103  0.639426  -1.34836  -0.00862974     -0.551425  -0.101309  0.528316\n",
       " 0.305103  0.639426  -1.34836  -0.00862974     -0.551425  -0.101309  0.528316\n",
       " 0.305103  0.639426  -1.34836  -0.00862974     -0.551425  -0.101309  0.528316"
      ]
     },
     "execution_count": 21,
     "metadata": {},
     "output_type": "execute_result"
    }
   ],
   "source": [
    "transpose(out1)"
   ]
  },
  {
   "cell_type": "code",
   "execution_count": 22,
   "metadata": {},
   "outputs": [
    {
     "data": {
      "text/plain": [
       "5×6 LinearAlgebra.Transpose{Float64,Array{Float64,2}}:\n",
       " 0.083419  -0.0306242  0.62237  0.245668  0.461211  -0.0473071\n",
       " 0.083419  -0.0306242  0.62237  0.245668  0.461211  -0.0473071\n",
       " 0.083419  -0.0306242  0.62237  0.245668  0.461211  -0.0473071\n",
       " 0.083419  -0.0306242  0.62237  0.245668  0.461211  -0.0473071\n",
       " 0.083419  -0.0306242  0.62237  0.245668  0.461211  -0.0473071"
      ]
     },
     "execution_count": 22,
     "metadata": {},
     "output_type": "execute_result"
    }
   ],
   "source": [
    "transpose(out2)"
   ]
  }
 ],
 "metadata": {
  "kernelspec": {
   "display_name": "Julia 1.2.0",
   "language": "julia",
   "name": "julia-1.2"
  },
  "language_info": {
   "file_extension": ".jl",
   "mimetype": "application/julia",
   "name": "julia",
   "version": "1.2.0"
  }
 },
 "nbformat": 4,
 "nbformat_minor": 2
}
