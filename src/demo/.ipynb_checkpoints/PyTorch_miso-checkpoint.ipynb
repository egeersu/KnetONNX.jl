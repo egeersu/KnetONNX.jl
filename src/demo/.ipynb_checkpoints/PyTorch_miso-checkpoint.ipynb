{
 "cells": [
  {
   "cell_type": "code",
   "execution_count": 16,
   "metadata": {},
   "outputs": [],
   "source": [
    "from torch.autograd import Variable\n",
    "import torch.onnx\n",
    "import torch.nn as nn\n",
    "import numpy"
   ]
  },
  {
   "cell_type": "code",
   "execution_count": 17,
   "metadata": {},
   "outputs": [],
   "source": [
    "class miso(nn.Module):\n",
    "    def __init__(self, x_in, x_out, y_in, y_out):\n",
    "        super(miso, self).__init__()\n",
    "        self.linear_x = nn.Linear(x_in, x_out)\n",
    "        self.linear_y = nn.Linear(y_in, y_out)\n",
    "         \n",
    "            \n",
    "    def forward(self, x, y):\n",
    "        x_out = self.linear_x(x)\n",
    "        y_out = self.linear_y(y)\n",
    "        model_out = x_out + y_out\n",
    "        return model_out"
   ]
  },
  {
   "cell_type": "code",
   "execution_count": 18,
   "metadata": {},
   "outputs": [],
   "source": [
    "x_in = 100\n",
    "x_out = 3\n",
    "\n",
    "y_in = 200\n",
    "y_out = 3\n",
    "\n",
    "model = miso(x_in, x_out, y_in, y_out)"
   ]
  },
  {
   "cell_type": "code",
   "execution_count": 19,
   "metadata": {
    "scrolled": true
   },
   "outputs": [],
   "source": [
    "x = torch.ones(5,x_in)\n",
    "y = torch.ones(5,y_in)"
   ]
  },
  {
   "cell_type": "code",
   "execution_count": 20,
   "metadata": {},
   "outputs": [],
   "source": [
    "out = model(x,y)"
   ]
  },
  {
   "cell_type": "code",
   "execution_count": 21,
   "metadata": {},
   "outputs": [
    {
     "data": {
      "text/plain": [
       "tensor([[ 0.8131, -0.9269,  0.3585],\n",
       "        [ 0.8131, -0.9269,  0.3585],\n",
       "        [ 0.8131, -0.9269,  0.3585],\n",
       "        [ 0.8131, -0.9269,  0.3585],\n",
       "        [ 0.8131, -0.9269,  0.3585]], grad_fn=<AddBackward0>)"
      ]
     },
     "execution_count": 21,
     "metadata": {},
     "output_type": "execute_result"
    }
   ],
   "source": [
    "out"
   ]
  },
  {
   "cell_type": "code",
   "execution_count": 15,
   "metadata": {},
   "outputs": [],
   "source": [
    "torch.onnx.export(model, (x,y), \"miso.onnx\")"
   ]
  }
 ],
 "metadata": {
  "kernelspec": {
   "display_name": "Python 3",
   "language": "python",
   "name": "python3"
  },
  "language_info": {
   "codemirror_mode": {
    "name": "ipython",
    "version": 3
   },
   "file_extension": ".py",
   "mimetype": "text/x-python",
   "name": "python",
   "nbconvert_exporter": "python",
   "pygments_lexer": "ipython3",
   "version": "3.7.4"
  }
 },
 "nbformat": 4,
 "nbformat_minor": 2
}
