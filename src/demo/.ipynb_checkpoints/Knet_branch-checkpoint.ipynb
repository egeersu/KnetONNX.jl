{
 "cells": [
  {
   "cell_type": "code",
   "execution_count": 1,
   "metadata": {},
   "outputs": [],
   "source": [
    "push!(LOAD_PATH, \"/Users/egeersu/Desktop/KnetONNX\")\n",
    "using Knet; using KnetONNX;"
   ]
  },
  {
   "cell_type": "code",
   "execution_count": 38,
   "metadata": {},
   "outputs": [
    {
     "data": {
      "text/plain": [
       "\"branch.onnx\""
      ]
     },
     "execution_count": 38,
     "metadata": {},
     "output_type": "execute_result"
    }
   ],
   "source": [
    "file_path = \"branch.onnx\""
   ]
  },
  {
   "cell_type": "code",
   "execution_count": 39,
   "metadata": {},
   "outputs": [
    {
     "name": "stdout",
     "output_type": "stream",
     "text": [
      "model inputs: [\"input.1\", \"input.2\"]\n",
      "model outputs: [\"15\"]\n",
      "(op1) Gemm\n",
      "\tinput1: input.1\n",
      "\tinput2: linear_x1.weight\n",
      "\tinput3: linear_x1.bias\n",
      "\toutput1: 10\n",
      "(op2) Gemm\n",
      "\tinput1: input.2\n",
      "\tinput2: linear_y1.weight\n",
      "\tinput3: linear_y1.bias\n",
      "\toutput1: 11\n",
      "(op3) Add\n",
      "\tinput1: 10\n",
      "\tinput2: 11\n",
      "\toutput1: 12\n",
      "(op4) Gemm\n",
      "\tinput1: 12\n",
      "\tinput2: linear_x2.weight\n",
      "\tinput3: linear_x2.bias\n",
      "\toutput1: 13\n",
      "(op5) Gemm\n",
      "\tinput1: 12\n",
      "\tinput2: linear_y2.weight\n",
      "\tinput3: linear_y2.bias\n",
      "\toutput1: 14\n",
      "(op6) Add\n",
      "\tinput1: 13\n",
      "\tinput2: 14\n",
      "\toutput1: 15\n"
     ]
    }
   ],
   "source": [
    "PrintGraph(ONNXtoGraph(file_path))"
   ]
  },
  {
   "cell_type": "code",
   "execution_count": 40,
   "metadata": {},
   "outputs": [],
   "source": [
    "model = KnetModel(file_path);"
   ]
  },
  {
   "cell_type": "code",
   "execution_count": 43,
   "metadata": {},
   "outputs": [],
   "source": [
    "x_in = 100\n",
    "y_in = 200\n",
    "batchsize = 5\n",
    "\n",
    "x = ones(x_in, batchsize)\n",
    "y = ones(y_in, batchsize);"
   ]
  },
  {
   "cell_type": "code",
   "execution_count": 46,
   "metadata": {},
   "outputs": [
    {
     "name": "stdout",
     "output_type": "stream",
     "text": [
      "forward begins\n"
     ]
    }
   ],
   "source": [
    "out = model([x,y]);"
   ]
  },
  {
   "cell_type": "code",
   "execution_count": 47,
   "metadata": {},
   "outputs": [
    {
     "data": {
      "text/plain": [
       "5×5 LinearAlgebra.Transpose{Float64,Array{Float64,2}}:\n",
       " 0.985261  0.27018  -0.201272  0.256544  -0.67473\n",
       " 0.985261  0.27018  -0.201272  0.256544  -0.67473\n",
       " 0.985261  0.27018  -0.201272  0.256544  -0.67473\n",
       " 0.985261  0.27018  -0.201272  0.256544  -0.67473\n",
       " 0.985261  0.27018  -0.201272  0.256544  -0.67473"
      ]
     },
     "execution_count": 47,
     "metadata": {},
     "output_type": "execute_result"
    }
   ],
   "source": [
    "transpose(out)"
   ]
  }
 ],
 "metadata": {
  "kernelspec": {
   "display_name": "Julia 1.2.0",
   "language": "julia",
   "name": "julia-1.2"
  },
  "language_info": {
   "file_extension": ".jl",
   "mimetype": "application/julia",
   "name": "julia",
   "version": "1.2.0"
  }
 },
 "nbformat": 4,
 "nbformat_minor": 2
}
