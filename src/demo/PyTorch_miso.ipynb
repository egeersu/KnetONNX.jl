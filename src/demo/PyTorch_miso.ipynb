{
 "cells": [
  {
   "cell_type": "code",
   "execution_count": null,
   "metadata": {},
   "outputs": [],
   "source": [
    "from torch.autograd import Variable\n",
    "import torch.onnx\n",
    "import torch.nn as nn\n",
    "import numpy"
   ]
  },
  {
   "cell_type": "code",
   "execution_count": null,
   "metadata": {},
   "outputs": [],
   "source": [
    "class miso(nn.Module):\n",
    "    def __init__(self, x_in, x_out, y_in, y_out):\n",
    "        super(miso, self).__init__()\n",
    "        self.linear_x = nn.Linear(x_in, x_out)\n",
    "        self.linear_y = nn.Linear(y_in, y_out)\n",
    "         \n",
    "            \n",
    "    def forward(self, x, y):\n",
    "        x_out = self.linear_x(x)\n",
    "        y_out = self.linear_y(y)\n",
    "        model_out = x_out + y_out\n",
    "        return model_out"
   ]
  },
  {
   "cell_type": "code",
   "execution_count": null,
   "metadata": {},
   "outputs": [],
   "source": [
    "x_in = 100\n",
    "x_out = 3\n",
    "\n",
    "y_in = 200\n",
    "y_out = 3\n",
    "\n",
    "model = miso(x_in, x_out, y_in, y_out)"
   ]
  },
  {
   "cell_type": "code",
   "execution_count": null,
   "metadata": {
    "scrolled": true
   },
   "outputs": [],
   "source": [
    "x = torch.ones(5,x_in)\n",
    "y = torch.ones(5,y_in)"
   ]
  },
  {
   "cell_type": "code",
   "execution_count": null,
   "metadata": {},
   "outputs": [],
   "source": [
    "out = model(x,y)"
   ]
  },
  {
   "cell_type": "code",
   "execution_count": null,
   "metadata": {},
   "outputs": [],
   "source": [
    "torch.onnx.export(model, (x,y), \"miso.onnx\")"
   ]
  }
 ],
 "metadata": {
  "kernelspec": {
   "display_name": "Python 3",
   "language": "python",
   "name": "python3"
  },
  "language_info": {
   "codemirror_mode": {
    "name": "ipython",
    "version": 3
   },
   "file_extension": ".py",
   "mimetype": "text/x-python",
   "name": "python",
   "nbconvert_exporter": "python",
   "pygments_lexer": "ipython3",
   "version": "3.7.4"
  }
 },
 "nbformat": 4,
 "nbformat_minor": 2
}
