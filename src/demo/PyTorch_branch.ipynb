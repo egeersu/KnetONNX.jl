{
 "cells": [
  {
   "cell_type": "code",
   "execution_count": 3,
   "metadata": {},
   "outputs": [],
   "source": [
    "from torch.autograd import Variable; import torch.onnx; import torch.nn as nn; import numpy"
   ]
  },
  {
   "cell_type": "code",
   "execution_count": 158,
   "metadata": {},
   "outputs": [],
   "source": [
    "class branch(nn.Module):\n",
    "    def __init__(self, x_in, y_in, hidden, x_out, y_out):\n",
    "        super(branch, self).__init__()\n",
    "        self.linear_x1 = nn.Linear(x_in, hidden)\n",
    "        self.linear_y1 = nn.Linear(y_in, hidden)\n",
    "        self.linear_x2 = nn.Linear(hidden, x_out)\n",
    "        self.linear_y2 = nn.Linear(hidden, y_out)\n",
    "                 \n",
    "    def forward(self, x, y):\n",
    "        x_out1 = self.linear_x1(x)\n",
    "        y_out1 = self.linear_y1(y)\n",
    "        hidden = x_out1 + y_out1\n",
    "        x_out2 = self.linear_x2(hidden)\n",
    "        y_out2 = self.linear_y2(hidden)\n",
    "        model_out = x_out2 + y_out2\n",
    "        \n",
    "        return model_out"
   ]
  },
  {
   "cell_type": "code",
   "execution_count": 159,
   "metadata": {},
   "outputs": [],
   "source": [
    "x_in = 100\n",
    "y_in = 200\n",
    "\n",
    "hidden = 50\n",
    "\n",
    "x_out = 5\n",
    "y_out = 5"
   ]
  },
  {
   "cell_type": "code",
   "execution_count": 160,
   "metadata": {},
   "outputs": [],
   "source": [
    "model = branch(x_in, y_in, hidden, x_out, y_out)"
   ]
  },
  {
   "cell_type": "code",
   "execution_count": 161,
   "metadata": {},
   "outputs": [],
   "source": [
    "batch_size = 5;\n",
    "x = torch.ones(batch_size, x_in)\n",
    "y = torch.ones(batch_size, y_in)"
   ]
  },
  {
   "cell_type": "code",
   "execution_count": 162,
   "metadata": {},
   "outputs": [],
   "source": [
    "out = model(x,y)"
   ]
  },
  {
   "cell_type": "code",
   "execution_count": 163,
   "metadata": {},
   "outputs": [
    {
     "data": {
      "text/plain": [
       "tensor([[ 0.9853,  0.2702, -0.2013,  0.2565, -0.6747],\n",
       "        [ 0.9853,  0.2702, -0.2013,  0.2565, -0.6747],\n",
       "        [ 0.9853,  0.2702, -0.2013,  0.2565, -0.6747],\n",
       "        [ 0.9853,  0.2702, -0.2013,  0.2565, -0.6747],\n",
       "        [ 0.9853,  0.2702, -0.2013,  0.2565, -0.6747]], grad_fn=<AddBackward0>)"
      ]
     },
     "execution_count": 163,
     "metadata": {},
     "output_type": "execute_result"
    }
   ],
   "source": [
    "out"
   ]
  },
  {
   "cell_type": "code",
   "execution_count": 164,
   "metadata": {},
   "outputs": [],
   "source": [
    "torch.onnx.export(model, (x,y), \"branch.onnx\")"
   ]
  }
 ],
 "metadata": {
  "kernelspec": {
   "display_name": "Python 3",
   "language": "python",
   "name": "python3"
  },
  "language_info": {
   "codemirror_mode": {
    "name": "ipython",
    "version": 3
   },
   "file_extension": ".py",
   "mimetype": "text/x-python",
   "name": "python",
   "nbconvert_exporter": "python",
   "pygments_lexer": "ipython3",
   "version": "3.7.4"
  }
 },
 "nbformat": 4,
 "nbformat_minor": 2
}
