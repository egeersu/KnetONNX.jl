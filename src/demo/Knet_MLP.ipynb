{
 "cells": [
  {
   "cell_type": "code",
   "execution_count": 7,
   "metadata": {},
   "outputs": [
    {
     "name": "stderr",
     "output_type": "stream",
     "text": [
      "┌ Info: Recompiling stale cache file /Users/egeersu/.julia/compiled/v1.2/Knet/f4vSz.ji for Knet [1902f260-5fb4-5aff-8c31-6271790ab950]\n",
      "└ @ Base loading.jl:1240\n",
      "┌ Info: Recompiling stale cache file /Users/egeersu/.julia/compiled/v1.2/KnetONNX.ji for KnetONNX [top-level]\n",
      "└ @ Base loading.jl:1240\n"
     ]
    },
    {
     "name": "stdout",
     "output_type": "stream",
     "text": [
      "  Updating registry at `~/.julia/registries/General`\n",
      "  Updating git-repo `https://github.com/JuliaRegistries/General.git`\n",
      "\u001b[2K\u001b[?25hFetching: [>                                        ]  0.0 % Resolving package versions...\n",
      "  Updating `~/.julia/environments/v1.2/Project.toml`\n",
      " [no changes]\n",
      "  Updating `~/.julia/environments/v1.2/Manifest.toml`\n",
      " [no changes]\n",
      " Resolving package versions...\n",
      "  Updating `~/.julia/environments/v1.2/Project.toml`\n",
      " [no changes]\n",
      "  Updating `~/.julia/environments/v1.2/Manifest.toml`\n",
      " [no changes]\n",
      " Resolving package versions...\n",
      "  Updating `~/.julia/environments/v1.2/Project.toml`\n",
      " [no changes]\n",
      "  Updating `~/.julia/environments/v1.2/Manifest.toml`\n",
      " [no changes]\n",
      " Resolving package versions...\n",
      "  Updating `~/.julia/environments/v1.2/Project.toml`\n",
      " [no changes]\n",
      "  Updating `~/.julia/environments/v1.2/Manifest.toml`\n",
      " [no changes]\n"
     ]
    },
    {
     "name": "stderr",
     "output_type": "stream",
     "text": [
      "WARNING: Method definition iterate(DataFlow.ObjectArraySet{T} where T, Any...) in module DataFlow at /Users/egeersu/.julia/packages/Lazy/mAoZN/src/macros.jl:285 overwritten at /Users/egeersu/.julia/packages/Lazy/mAoZN/src/macros.jl:285.\n",
      "  ** incremental compilation may be fatally broken for this module **\n",
      "\n",
      "WARNING: Method definition iterate(DataFlow.ObjectArraySet{T} where T, Any...) in module DataFlow at /Users/egeersu/.julia/packages/Lazy/mAoZN/src/macros.jl:285 overwritten at /Users/egeersu/.julia/packages/Lazy/mAoZN/src/macros.jl:285.\n",
      "  ** incremental compilation may be fatally broken for this module **\n",
      "\n",
      "WARNING: Method definition iterate(DataFlow.ObjectArraySet{T} where T, Any...) in module DataFlow at /Users/egeersu/.julia/packages/Lazy/mAoZN/src/macros.jl:285 overwritten at /Users/egeersu/.julia/packages/Lazy/mAoZN/src/macros.jl:285.\n",
      "  ** incremental compilation may be fatally broken for this module **\n",
      "\n"
     ]
    },
    {
     "name": "stdout",
     "output_type": "stream",
     "text": [
      " Resolving package versions...\n",
      "  Updating `~/.julia/environments/v1.2/Project.toml`\n",
      " [no changes]\n",
      "  Updating `~/.julia/environments/v1.2/Manifest.toml`\n",
      " [no changes]\n",
      " Resolving package versions...\n",
      "  Updating `~/.julia/environments/v1.2/Project.toml`\n",
      " [no changes]\n",
      "  Updating `~/.julia/environments/v1.2/Manifest.toml`\n",
      " [no changes]\n",
      " Resolving package versions...\n",
      "  Updating `~/.julia/environments/v1.2/Project.toml`\n",
      " [no changes]\n",
      "  Updating `~/.julia/environments/v1.2/Manifest.toml`\n",
      " [no changes]\n"
     ]
    }
   ],
   "source": [
    "push!(LOAD_PATH, \"/Users/egeersu/Desktop/KnetONNX\")\n",
    "using Knet; using KnetONNX;"
   ]
  },
  {
   "cell_type": "markdown",
   "metadata": {},
   "source": [
    "## CREATE THE GRAPH"
   ]
  },
  {
   "cell_type": "code",
   "execution_count": 8,
   "metadata": {},
   "outputs": [
    {
     "data": {
      "text/plain": [
       "\"mlp.onnx\""
      ]
     },
     "execution_count": 8,
     "metadata": {},
     "output_type": "execute_result"
    }
   ],
   "source": [
    "file_path = \"mlp.onnx\""
   ]
  },
  {
   "cell_type": "code",
   "execution_count": 9,
   "metadata": {},
   "outputs": [
    {
     "name": "stdout",
     "output_type": "stream",
     "text": [
      "model inputs: [\"input.1\"]\n",
      "model outputs: [\"7\"]\n",
      "(op1) Gemm\n",
      "\tinput1: input.1\n",
      "\tinput2: linear1.weight\n",
      "\tinput3: linear1.bias\n",
      "\toutput1: 5\n",
      "(op2) Gemm\n",
      "\tinput1: 5\n",
      "\tinput2: linear2.weight\n",
      "\tinput3: linear2.bias\n",
      "\toutput1: 6\n",
      "(op3) Relu\n",
      "\tinput1: 6\n",
      "\toutput1: 7\n"
     ]
    }
   ],
   "source": [
    "graph = ONNXtoGraph(file_path)\n",
    "PrintGraph(graph)"
   ]
  },
  {
   "cell_type": "markdown",
   "metadata": {},
   "source": [
    "## CREATE THE MODEL"
   ]
  },
  {
   "cell_type": "code",
   "execution_count": 10,
   "metadata": {},
   "outputs": [],
   "source": [
    "model = KnetModel(file_path);"
   ]
  },
  {
   "cell_type": "code",
   "execution_count": 11,
   "metadata": {},
   "outputs": [
    {
     "data": {
      "text/plain": [
       "Dict{Any,Any} with 4 entries:\n",
       "  \"5\"       => Nothing\n",
       "  \"input.1\" => Nothing\n",
       "  \"6\"       => Nothing\n",
       "  \"7\"       => Nothing"
      ]
     },
     "execution_count": 11,
     "metadata": {},
     "output_type": "execute_result"
    }
   ],
   "source": [
    "model.tensors"
   ]
  },
  {
   "cell_type": "markdown",
   "metadata": {},
   "source": [
    "## Forward Pass"
   ]
  },
  {
   "cell_type": "code",
   "execution_count": 12,
   "metadata": {
    "scrolled": true
   },
   "outputs": [],
   "source": [
    "dummy_input = ones(5,8);"
   ]
  },
  {
   "cell_type": "code",
   "execution_count": 13,
   "metadata": {},
   "outputs": [],
   "source": [
    "out = model(dummy_input);"
   ]
  },
  {
   "cell_type": "code",
   "execution_count": 14,
   "metadata": {},
   "outputs": [
    {
     "data": {
      "text/plain": [
       "8×4 LinearAlgebra.Transpose{Float64,Array{Float64,2}}:\n",
       " 0.0  0.165284  0.164963  0.0491276\n",
       " 0.0  0.165284  0.164963  0.0491276\n",
       " 0.0  0.165284  0.164963  0.0491276\n",
       " 0.0  0.165284  0.164963  0.0491276\n",
       " 0.0  0.165284  0.164963  0.0491276\n",
       " 0.0  0.165284  0.164963  0.0491276\n",
       " 0.0  0.165284  0.164963  0.0491276\n",
       " 0.0  0.165284  0.164963  0.0491276"
      ]
     },
     "execution_count": 14,
     "metadata": {},
     "output_type": "execute_result"
    }
   ],
   "source": [
    "transpose(out)"
   ]
  },
  {
   "cell_type": "code",
   "execution_count": 15,
   "metadata": {},
   "outputs": [
    {
     "data": {
      "text/plain": [
       "Dict{Any,Any} with 4 entries:\n",
       "  \"5\"       => [-0.44158 -0.44158 … -0.44158 -0.44158; 0.357148 0.357148 … 0.35…\n",
       "  \"input.1\" => [1.0 1.0 … 1.0 1.0; 1.0 1.0 … 1.0 1.0; … ; 1.0 1.0 … 1.0 1.0; 1.…\n",
       "  \"6\"       => [-0.131239 -0.131239 … -0.131239 -0.131239; 0.165284 0.165284 … …\n",
       "  \"7\"       => [0.0 0.0 … 0.0 0.0; 0.165284 0.165284 … 0.165284 0.165284; 0.164…"
      ]
     },
     "execution_count": 15,
     "metadata": {},
     "output_type": "execute_result"
    }
   ],
   "source": [
    "model.tensors"
   ]
  }
 ],
 "metadata": {
  "kernelspec": {
   "display_name": "Julia 1.2.0",
   "language": "julia",
   "name": "julia-1.2"
  },
  "language_info": {
   "file_extension": ".jl",
   "mimetype": "application/julia",
   "name": "julia",
   "version": "1.2.0"
  }
 },
 "nbformat": 4,
 "nbformat_minor": 2
}
