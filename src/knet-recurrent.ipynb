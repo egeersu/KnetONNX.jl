{
 "cells": [
  {
   "cell_type": "code",
   "execution_count": 1,
   "metadata": {},
   "outputs": [
    {
     "name": "stderr",
     "output_type": "stream",
     "text": [
      "┌ Info: Recompiling stale cache file /Users/egeersu/.julia/compiled/v1.2/KnetOnnx/gz8hJ.ji for KnetOnnx [5598a57d-f0b8-44c7-a305-14fa4de76fa0]\n",
      "└ @ Base loading.jl:1240\n",
      "WARNING: Method definition iterate(DataFlow.ObjectArraySet{T} where T, Any...) in module DataFlow at /Users/egeersu/.julia/packages/Lazy/mAoZN/src/macros.jl:285 overwritten at /Users/egeersu/.julia/packages/Lazy/mAoZN/src/macros.jl:285.\n",
      "  ** incremental compilation may be fatally broken for this module **\n",
      "\n",
      "WARNING: Method definition iterate(DataFlow.ObjectArraySet{T} where T, Any...) in module DataFlow at /Users/egeersu/.julia/packages/Lazy/mAoZN/src/macros.jl:285 overwritten at /Users/egeersu/.julia/packages/Lazy/mAoZN/src/macros.jl:285.\n",
      "  ** incremental compilation may be fatally broken for this module **\n",
      "\n",
      "WARNING: Method definition iterate(DataFlow.ObjectArraySet{T} where T, Any...) in module DataFlow at /Users/egeersu/.julia/packages/Lazy/mAoZN/src/macros.jl:285 overwritten at /Users/egeersu/.julia/packages/Lazy/mAoZN/src/macros.jl:285.\n",
      "  ** incremental compilation may be fatally broken for this module **\n",
      "\n"
     ]
    }
   ],
   "source": [
    "using KnetOnnx"
   ]
  },
  {
   "cell_type": "code",
   "execution_count": 7,
   "metadata": {
    "scrolled": true
   },
   "outputs": [
    {
     "name": "stdout",
     "output_type": "stream",
     "text": [
      "model inputs: [\"input\"]\n",
      "model outputs: [\"22\", \"21\"]\n",
      "(op1) Constant\n",
      "\toutput1: 5\n",
      "(op2) Shape\n",
      "\tinput1: input\n",
      "\toutput1: 6\n",
      "(op3) Gather\n",
      "\tinput1: 6\n",
      "\tinput2: 5\n",
      "\toutput1: 7\n",
      "(op4) Constant\n",
      "\toutput1: 8\n",
      "(op5) Constant\n",
      "\toutput1: 9\n",
      "(op6) Unsqueeze\n",
      "\tinput1: 8\n",
      "\toutput1: 10\n",
      "(op7) Unsqueeze\n",
      "\tinput1: 7\n",
      "\toutput1: 11\n",
      "(op8) Unsqueeze\n",
      "\tinput1: 9\n",
      "\toutput1: 12\n",
      "(op9) Concat\n",
      "\tinput1: 10\n",
      "\tinput2: 11\n",
      "\tinput3: 12\n",
      "\toutput1: 13\n",
      "(op10) ConstantOfShape\n",
      "\tinput1: 13\n",
      "\toutput1: 14\n",
      "(op11) Concat\n",
      "\tinput1: rnn.bias_ih_l0\n",
      "\tinput2: rnn.bias_hh_l0\n",
      "\toutput1: 16\n",
      "(op12) Unsqueeze\n",
      "\tinput1: rnn.weight_ih_l0\n",
      "\toutput1: 17\n",
      "(op13) Unsqueeze\n",
      "\tinput1: rnn.weight_hh_l0\n",
      "\toutput1: 18\n",
      "(op14) Unsqueeze\n",
      "\tinput1: 16\n",
      "\toutput1: 19\n",
      "(op15) RNN\n",
      "\tinput1: input\n",
      "\tinput2: 17\n",
      "\tinput3: 18\n",
      "\tinput4: 19\n",
      "\tinput5: \n",
      "\tinput6: 14\n",
      "\toutput1: 20\n",
      "\toutput2: 21\n",
      "(op16) Squeeze\n",
      "\tinput1: 20\n",
      "\toutput1: 22\n"
     ]
    }
   ],
   "source": [
    "file_path = \"/Users/egeersu/Desktop/KnetOnnx/src/recurrent.onnx\"\n",
    "graph = ONNXtoGraph(file_path);\n",
    "PrintGraph(graph)"
   ]
  },
  {
   "cell_type": "code",
   "execution_count": 3,
   "metadata": {},
   "outputs": [],
   "source": [
    "model = KnetModel(file_path);"
   ]
  },
  {
   "cell_type": "code",
   "execution_count": 6,
   "metadata": {},
   "outputs": [
    {
     "data": {
      "text/plain": [
       "2×2 Array{Float64,2}:\n",
       " 2.0  4.0\n",
       " 3.0  5.0"
      ]
     },
     "execution_count": 6,
     "metadata": {},
     "output_type": "execute_result"
    }
   ],
   "source": [
    "model(ones(2,2))"
   ]
  },
  {
   "cell_type": "code",
   "execution_count": null,
   "metadata": {},
   "outputs": [],
   "source": [
    "model.tensors"
   ]
  }
 ],
 "metadata": {
  "kernelspec": {
   "display_name": "Julia 1.2.0",
   "language": "julia",
   "name": "julia-1.2"
  },
  "language_info": {
   "file_extension": ".jl",
   "mimetype": "application/julia",
   "name": "julia",
   "version": "1.2.0"
  }
 },
 "nbformat": 4,
 "nbformat_minor": 2
}
